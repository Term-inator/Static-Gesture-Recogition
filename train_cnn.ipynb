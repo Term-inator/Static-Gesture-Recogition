{
 "cells": [
  {
   "cell_type": "code",
   "execution_count": null,
   "metadata": {},
   "outputs": [],
   "source": [
    "import tensorflow as tf\n",
    "from tensorflow.python.ops.numpy_ops import np_config\n",
    "\n",
    "np_config.enable_numpy_behavior()\n",
    "\n",
    "raw_image_dataset = tf.data.TFRecordDataset('../images.tfrecords')\n",
    "\n",
    "# Create a dictionary describing the features.\n",
    "image_feature_description = {\n",
    "    'label': tf.io.FixedLenFeature([], tf.int64),\n",
    "    'image_raw': tf.io.FixedLenFeature([], tf.string),\n",
    "}\n",
    "\n",
    "def _parse_image_function(example_proto):\n",
    "  example = tf.io.parse_single_example(example_proto, image_feature_description)\n",
    "  label, image = example[\"label\"], example[\"image_raw\"]\n",
    "  label = tf.one_hot(label, depth=10)\n",
    "  # print(tf.io.parse_single_example(example_proto, image_feature_description))\n",
    "  # image_raw = image_features['image_raw']\n",
    "  image = tf.io.decode_raw(image, tf.uint8)\n",
    "  image = tf.reshape(image, (640, 240, 1))\n",
    "  image = image.astype(\"float32\") / 255\n",
    "  \n",
    "  return image, label\n",
    "  \n",
    "  # return tf.io.parse_single_example(example_proto, image_feature_description)\n",
    "\n",
    "parsed_image_dataset = raw_image_dataset.map(_parse_image_function)\n",
    "parsed_image_dataset"
   ]
  },
  {
   "cell_type": "code",
   "execution_count": null,
   "metadata": {},
   "outputs": [],
   "source": [
    "for image_features in parsed_image_dataset:\n",
    "  image = image_features[0]\n",
    "  label = image_features[1]\n",
    "  print(label)\n",
    "  print(image)\n",
    "  break"
   ]
  },
  {
   "cell_type": "code",
   "execution_count": null,
   "metadata": {},
   "outputs": [],
   "source": [
    "dataset = parsed_image_dataset.shuffle(1000).batch(8)"
   ]
  },
  {
   "cell_type": "code",
   "execution_count": null,
   "metadata": {},
   "outputs": [],
   "source": [
    "for batch in dataset:\n",
    "  print(batch)\n",
    "  break"
   ]
  },
  {
   "cell_type": "code",
   "execution_count": null,
   "metadata": {},
   "outputs": [],
   "source": [
    "from tensorflow.keras import models\n",
    "from tensorflow.keras import layers\n",
    "\n",
    "model = models.Sequential()\n",
    "layer1 = layers.Conv2D(filters=32, input_shape=(640, 240, 1),\n",
    "  kernel_size=(3, 3), strides=(1, 1), padding='same', activation='relu')\n",
    "model.add(layer1)\n",
    "\n",
    "layer2 = layers.Dense(128, activation='relu')\n",
    "model.add(layer2)\n",
    "\n",
    "model.add(layers.Flatten())\n",
    "\n",
    "layer3 = layers.Dense(10, activation='softmax')\n",
    "model.add(layer3)\n",
    "\n",
    "model.summary()"
   ]
  },
  {
   "cell_type": "code",
   "execution_count": null,
   "metadata": {},
   "outputs": [],
   "source": [
    "\n",
    "myadam = tf.keras.optimizers.Adam(\n",
    "    learning_rate=0.001, beta_1=0.9, beta_2=0.999, epsilon=1e-07, amsgrad=False, name='Adam'\n",
    ")\n",
    "\n",
    "model.compile(optimizer=myadam,\n",
    "                loss='categorical_crossentropy',\n",
    "                metrics=['accuracy'])\n",
    "\n",
    "# 降低学习率\n",
    "reduce_lr = tf.keras.callbacks.ReduceLROnPlateau(monitor='loss',verbose=1, factor=0.2,patience=1, min_lr=0.0001)\n",
    "\n",
    "# 提前终止\n",
    "# es=tf.keras.callbacks.EarlyStopping(monitor='loss',verbose=1,mode='min',patience=2)\n",
    " \n",
    "# model.fit(dataset, epochs=10, callbacks=[reduce_lr ,es])\n",
    "model.fit(dataset, epochs=10, callbacks=[reduce_lr])"
   ]
  }
 ],
 "metadata": {
  "interpreter": {
   "hash": "919eb0904b72c37e8d6c7e3b2f7b6f162c89cafcc297fba09b2d10c79c52f5eb"
  },
  "kernelspec": {
   "display_name": "Python 3.7.3 64-bit ('base': conda)",
   "language": "python",
   "name": "python3"
  },
  "language_info": {
   "codemirror_mode": {
    "name": "ipython",
    "version": 3
   },
   "file_extension": ".py",
   "mimetype": "text/x-python",
   "name": "python",
   "nbconvert_exporter": "python",
   "pygments_lexer": "ipython3",
   "version": "3.7.3"
  },
  "orig_nbformat": 4
 },
 "nbformat": 4,
 "nbformat_minor": 2
}
