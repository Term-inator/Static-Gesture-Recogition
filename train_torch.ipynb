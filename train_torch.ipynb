{
 "cells": [
  {
   "cell_type": "code",
   "execution_count": 1,
   "metadata": {
    "execution": {
     "iopub.execute_input": "2022-01-28T14:36:41.617943Z",
     "iopub.status.busy": "2022-01-28T14:36:41.617749Z",
     "iopub.status.idle": "2022-01-28T14:36:42.680648Z",
     "shell.execute_reply": "2022-01-28T14:36:42.679820Z",
     "shell.execute_reply.started": "2022-01-28T14:36:41.617905Z"
    },
    "executionInfo": {
     "elapsed": 6256,
     "status": "ok",
     "timestamp": 1643165628821,
     "user": {
      "displayName": "Bill chen",
      "photoUrl": "https://lh3.googleusercontent.com/a/default-user=s64",
      "userId": "03010122854624571547"
     },
     "user_tz": -480
    },
    "id": "0wpyJ6Pm5bTI"
   },
   "outputs": [],
   "source": [
    "import torch\n",
    "from torch.utils.data import Dataset, DataLoader\n",
    "from torch import nn\n",
    "import torch.nn.functional as F\n",
    "from torchvision import transforms\n",
    "\n",
    "import numpy as np\n",
    "import random\n",
    "from PIL import Image\n",
    "import matplotlib.pyplot as plt"
   ]
  },
  {
   "cell_type": "code",
   "execution_count": 2,
   "metadata": {
    "execution": {
     "iopub.execute_input": "2022-01-28T14:36:42.681883Z",
     "iopub.status.busy": "2022-01-28T14:36:42.681498Z",
     "iopub.status.idle": "2022-01-28T14:36:42.718192Z",
     "shell.execute_reply": "2022-01-28T14:36:42.717225Z",
     "shell.execute_reply.started": "2022-01-28T14:36:42.681817Z"
    }
   },
   "outputs": [
    {
     "name": "stdout",
     "output_type": "stream",
     "text": [
      "Using cuda device\n"
     ]
    }
   ],
   "source": [
    "device = 'cuda' if torch.cuda.is_available() else 'cpu'\r\n",
    "print(f'Using {device} device')"
   ]
  },
  {
   "cell_type": "code",
   "execution_count": 3,
   "metadata": {
    "execution": {
     "iopub.execute_input": "2022-01-28T14:36:42.719422Z",
     "iopub.status.busy": "2022-01-28T14:36:42.719151Z",
     "iopub.status.idle": "2022-01-28T14:36:42.723260Z",
     "shell.execute_reply": "2022-01-28T14:36:42.722494Z",
     "shell.execute_reply.started": "2022-01-28T14:36:42.719343Z"
    },
    "executionInfo": {
     "elapsed": 61,
     "status": "ok",
     "timestamp": 1643165628823,
     "user": {
      "displayName": "Bill chen",
      "photoUrl": "https://lh3.googleusercontent.com/a/default-user=s64",
      "userId": "03010122854624571547"
     },
     "user_tz": -480
    },
    "id": "zcDkHoWYRld-"
   },
   "outputs": [],
   "source": [
    "class Params:\n",
    "  class_num = 10\n",
    "  batch_size = 16\n",
    "  learning_rate = 0.001\n",
    "  dropout = 0.5\n",
    "  momentum = 0.9\n",
    "  epochs = 1000\n"
   ]
  },
  {
   "cell_type": "code",
   "execution_count": 4,
   "metadata": {
    "execution": {
     "iopub.execute_input": "2022-01-28T14:36:42.724333Z",
     "iopub.status.busy": "2022-01-28T14:36:42.724023Z",
     "iopub.status.idle": "2022-01-28T14:36:42.731646Z",
     "shell.execute_reply": "2022-01-28T14:36:42.730932Z",
     "shell.execute_reply.started": "2022-01-28T14:36:42.724240Z"
    }
   },
   "outputs": [],
   "source": [
    "class AddPepperNoise(object):\r\n",
    "    \"\"\"add pepper noise\r\n",
    "    Args:\r\n",
    "        snr （float）: Signal Noise Rate\r\n",
    "        p (float): probability\r\n",
    "    \"\"\"\r\n",
    "\r\n",
    "    def __init__(self, snr, p=0.9):\r\n",
    "        assert isinstance(snr, float) or (isinstance(p, float))\r\n",
    "        self.snr = snr\r\n",
    "        self.p = p\r\n",
    "\r\n",
    "    def __call__(self, img):\r\n",
    "        \"\"\"\r\n",
    "        Args:\r\n",
    "            img (PIL Image): PIL Image\r\n",
    "        Returns:\r\n",
    "            PIL Image: PIL image.\r\n",
    "        \"\"\"\r\n",
    "        if random.uniform(0, 1) < self.p:\r\n",
    "            img_ = np.array(img).copy()\r\n",
    "            h, w = img_.shape\r\n",
    "            signal_pct = self.snr\r\n",
    "            noise_pct = (1 - self.snr)\r\n",
    "            mask = np.random.choice((0, 1, 2), size=(h, w), p=[signal_pct, noise_pct/2., noise_pct/2.])\r\n",
    "            img_[mask == 1] = 255   # 盐噪声\r\n",
    "            img_[mask == 2] = 0     # 椒噪声\r\n",
    "            return Image.fromarray(img_.astype('uint8')).convert('L')\r\n",
    "        else:\r\n",
    "            return img"
   ]
  },
  {
   "cell_type": "code",
   "execution_count": 5,
   "metadata": {
    "execution": {
     "iopub.execute_input": "2022-01-28T14:36:42.732597Z",
     "iopub.status.busy": "2022-01-28T14:36:42.732359Z",
     "iopub.status.idle": "2022-01-28T14:36:42.743816Z",
     "shell.execute_reply": "2022-01-28T14:36:42.742830Z",
     "shell.execute_reply.started": "2022-01-28T14:36:42.732520Z"
    },
    "executionInfo": {
     "elapsed": 64,
     "status": "ok",
     "timestamp": 1643165628829,
     "user": {
      "displayName": "Bill chen",
      "photoUrl": "https://lh3.googleusercontent.com/a/default-user=s64",
      "userId": "03010122854624571547"
     },
     "user_tz": -480
    },
    "id": "K9hPcHQZdV_z"
   },
   "outputs": [],
   "source": [
    "base_path = \"leapGestRecog/\"\n",
    "people = [\"00\", \"01\", \"02\", \"03\", \"04\", \"05\", \"06\", \"07\", \"08\", \"09\"]\n",
    "gestures = [\"01\", \"02\", \"03\", \"04\", \"05\", \"06\", \"07\", \"08\", \"09\", \"10\"]\n",
    "gestures_map = {\n",
    "    1: \"palm\", \n",
    "    2: \"l\", \n",
    "    3: \"fist\", \n",
    "    4: \"fist_moved\",\n",
    "    5: \"thumb\", \n",
    "    6: \"index\", \n",
    "    7: \"ok\", \n",
    "    8: \"palm_moved\", \n",
    "    9: \"c\",\n",
    "    10: \"down\"\n",
    "}\n",
    "\n",
    "can_transform = [1, 3, 4, 6, 7, 8]\n",
    "\n",
    "train_can_transform = transforms.Compose([\n",
    "  # transforms.RandomHorizontalFlip(),\n",
    "  # transforms.RandomVerticalFlip(),\n",
    "  # transforms.RandomRotation(45),\n",
    "  # AddPepperNoise(0.9, p=0.5),\n",
    "  transforms.ToTensor()\n",
    "])\n",
    "\n",
    "train_cant_transform = transforms.Compose([\n",
    "  # AddPepperNoise(0.9, p=0.5),\n",
    "  transforms.ToTensor()\n",
    "])\n",
    "\n",
    "other_transform = transforms.Compose([\n",
    "  transforms.ToTensor()\n",
    "])\n",
    "\n",
    "class GestureDataset(Dataset):\n",
    "  def __init__(self, is_train=True):\n",
    "    img_labels = []\n",
    "    for person in range(10):\n",
    "      for label in range(1, 11):\n",
    "        path = \"%s/%s_%s/\" % (str(person).zfill(2), str(label).zfill(2), gestures_map[label])\n",
    "        for id in range(1, 201):\n",
    "          filename = \"frame_%s_%s_%s.png\" % (str(person).zfill(2), str(label).zfill(2), str(id).zfill(4))\n",
    "          img_labels.append((base_path + path + filename, label))\n",
    "          \n",
    "    self.img_labels = img_labels \n",
    "    self.is_train = is_train\n",
    "  def __getitem__(self, index):\n",
    "    path, label = self.img_labels[index]\n",
    "    img = Image.open(path).convert('L') # convert to black and white\n",
    "\n",
    "    if self.is_train:\n",
    "      if label in can_transform:\n",
    "        img = train_can_transform(img)\n",
    "      else:\n",
    "        img = train_cant_transform(img)\n",
    "    else:\n",
    "      img = other_transform(img)\n",
    "\n",
    "    return img, label - 1\n",
    "  def __len__(self):\n",
    "    return len(self.img_labels)"
   ]
  },
  {
   "cell_type": "code",
   "execution_count": 6,
   "metadata": {
    "execution": {
     "iopub.execute_input": "2022-01-28T14:36:42.744586Z",
     "iopub.status.busy": "2022-01-28T14:36:42.744409Z",
     "iopub.status.idle": "2022-01-28T14:36:42.780750Z",
     "shell.execute_reply": "2022-01-28T14:36:42.779877Z",
     "shell.execute_reply.started": "2022-01-28T14:36:42.744552Z"
    },
    "executionInfo": {
     "elapsed": 67,
     "status": "ok",
     "timestamp": 1643165628834,
     "user": {
      "displayName": "Bill chen",
      "photoUrl": "https://lh3.googleusercontent.com/a/default-user=s64",
      "userId": "03010122854624571547"
     },
     "user_tz": -480
    },
    "id": "EQliUFhZ15iK"
   },
   "outputs": [],
   "source": [
    "gesture_dataset = GestureDataset()\n",
    "\n",
    "train_size = int(20000*0.8)\n",
    "test_size = int(20000*0.2)\n",
    "\n",
    "train_dataset, test_dataset = torch.utils.data.random_split(gesture_dataset, [train_size, test_size])\n",
    "test_dataset.is_train = False"
   ]
  },
  {
   "cell_type": "code",
   "execution_count": 7,
   "metadata": {
    "colab": {
     "base_uri": "https://localhost:8080/"
    },
    "execution": {
     "iopub.execute_input": "2022-01-28T14:36:42.782076Z",
     "iopub.status.busy": "2022-01-28T14:36:42.781840Z",
     "iopub.status.idle": "2022-01-28T14:36:49.128198Z",
     "shell.execute_reply": "2022-01-28T14:36:49.127242Z",
     "shell.execute_reply.started": "2022-01-28T14:36:42.782036Z"
    },
    "executionInfo": {
     "elapsed": 679,
     "status": "ok",
     "timestamp": 1643165629448,
     "user": {
      "displayName": "Bill chen",
      "photoUrl": "https://lh3.googleusercontent.com/a/default-user=s64",
      "userId": "03010122854624571547"
     },
     "user_tz": -480
    },
    "id": "dJl-ZNVW1_pU",
    "outputId": "53955385-498e-40b7-9521-822a9d231240"
   },
   "outputs": [],
   "source": [
    "class Model(nn.Module):\n",
    "  def __init__(self, dropout):\n",
    "    super(Model, self).__init__()\n",
    "    self.conv1 = nn.Conv2d(1,12, kernel_size=5, stride=1, padding=0)\n",
    "    self.max_pool1 = nn.MaxPool2d(kernel_size=2, stride=2, padding=0)\n",
    "    self.conv2 = nn.Conv2d(12, 16, kernel_size=5, stride=1, padding=0)\n",
    "    self.conv2_drop = nn.Dropout2d(p=dropout)\n",
    "    self.max_pool2 = nn.MaxPool2d(kernel_size=2, stride=2, padding=0)\n",
    "\n",
    "    self.fc1 = nn.Linear(143184, 512) # number channels * width * height\n",
    "    self.fc2 = nn.Linear(512, 10)\n",
    "    self.fc1_drop = nn.Dropout(p=dropout)\n",
    "\n",
    "  def forward(self, x):\n",
    "    # print(x.size(0))\n",
    "    # print(x.shape)\n",
    "    x = torch.relu(self.max_pool1(self.conv1(x)))\n",
    "    # print(x.shape)\n",
    "    x = torch.relu(self.max_pool2(self.conv2_drop(self.conv2(x))))\n",
    "    \n",
    "    # flatten over channel, height and width\n",
    "    # print(x.shape)\n",
    "    x = x.view(x.size(0), x.size(1) * x.size(2) * x.size(3))\n",
    "    \n",
    "    x = torch.relu(self.fc1_drop(self.fc1(x)))\n",
    "    # x = torch.softmax(self.fc2(x), dim=-1)\n",
    "    x = torch.relu(self.fc2(x))\n",
    "    return x\n",
    "\n",
    "\n",
    "model = Model(dropout=Params.dropout).to(device)"
   ]
  },
  {
   "cell_type": "code",
   "execution_count": 8,
   "metadata": {
    "execution": {
     "iopub.execute_input": "2022-01-28T14:36:49.129466Z",
     "iopub.status.busy": "2022-01-28T14:36:49.129223Z",
     "iopub.status.idle": "2022-01-28T14:36:49.143923Z",
     "shell.execute_reply": "2022-01-28T14:36:49.143213Z",
     "shell.execute_reply.started": "2022-01-28T14:36:49.129413Z"
    },
    "executionInfo": {
     "elapsed": 36,
     "status": "ok",
     "timestamp": 1643165629450,
     "user": {
      "displayName": "Bill chen",
      "photoUrl": "https://lh3.googleusercontent.com/a/default-user=s64",
      "userId": "03010122854624571547"
     },
     "user_tz": -480
    },
    "id": "t1tnoC5B2CFN"
   },
   "outputs": [],
   "source": [
    "\n",
    "history = {\n",
    "  \"loss\": [],\n",
    "  \"acc\": [],\n",
    "  \"loss_iter\": [],\n",
    "  \"val_loss\": [],\n",
    "  \"val_acc\": []\n",
    "}\n",
    "\n",
    "test_res = {\n",
    "  \"loss\": 0,\n",
    "  \"acc\": 0\n",
    "}\n",
    "\n",
    "def train(dataloader, model, loss_fn, optimizer):\n",
    "  size = len(dataloader.dataset)\n",
    "  num_batches = len(dataloader)\n",
    "  model.train()\n",
    "  epoch_loss, epoch_acc = 0, 0\n",
    "  for batch, (X, y) in enumerate(dataloader):\n",
    "    X, y = X.to(device), y.to(device)\n",
    "\n",
    "    # Compute prediction error\n",
    "    pred = model(X)\n",
    "    # print(pred.argmax(1))\n",
    "    loss = loss_fn(pred, y)\n",
    "  \n",
    "    history[\"loss_iter\"].append(loss.item())\n",
    "    epoch_loss += loss.item()\n",
    "    epoch_acc += (pred.argmax(1) == y).type(torch.float).sum().item()\n",
    "\n",
    "    # Backpropagation\n",
    "    optimizer.zero_grad()\n",
    "    loss.backward()\n",
    "    optimizer.step()\n",
    "\n",
    "    if batch % 100 == 0:\n",
    "      loss, current = loss.item(), batch * len(X)\n",
    "      print(f\"loss: {loss:>7f}  [{current:>5d}/{size:>5d}]\")\n",
    "  \n",
    "  epoch_loss /= num_batches\n",
    "  epoch_acc /= size\n",
    "  print(f\"Training: \\n Accuracy: {(100*epoch_acc):>0.2f}%, Avg loss: {epoch_loss:>8f}\")\n",
    "  history[\"loss\"].append(epoch_loss)\n",
    "  history[\"acc\"].append(epoch_acc)\n",
    "\n",
    "def validate(dataloader, model, loss_fn):\n",
    "  size = len(dataloader.dataset)\n",
    "  num_batches = len(dataloader)\n",
    "  model.eval()\n",
    "  val_loss, correct = 0, 0\n",
    "  with torch.no_grad():\n",
    "    for X, y in dataloader:\n",
    "      X, y = X.to(device), y.to(device)\n",
    "      pred = model(X)\n",
    "      val_loss += loss_fn(pred, y).item()\n",
    "      correct += (pred.argmax(1) == y).type(torch.float).sum().item()\n",
    "  val_loss /= num_batches\n",
    "  correct /= size\n",
    "  history[\"val_loss\"].append(val_loss)\n",
    "  history[\"val_acc\"].append(correct)\n",
    "  print(f\"Validation: \\n Accuracy: {(100*correct):>0.2f}%, Avg loss: {val_loss:>8f}\")\n",
    "\n",
    "def test(dataloader, model, loss_fn):\n",
    "  size = len(dataloader.dataset)\n",
    "  num_batches = len(dataloader)\n",
    "  model.eval()\n",
    "  test_loss, correct = 0, 0\n",
    "  with torch.no_grad():\n",
    "    for X, y in dataloader:\n",
    "      X, y = X.to(device), y.to(device)\n",
    "      pred = model(X)\n",
    "      test_loss += loss_fn(pred, y).item()\n",
    "      correct += (pred.argmax(1) == y).type(torch.float).sum().item()\n",
    "  test_loss /= num_batches\n",
    "  correct /= size\n",
    "  test_res[\"loss\"] = test_loss\n",
    "  test_res[\"acc\"] = correct\n",
    "  print(f\"Test Error: \\n Accuracy: {(100*correct):>0.2f}%, Avg loss: {test_loss:>8f} \\n\")"
   ]
  },
  {
   "cell_type": "code",
   "execution_count": 9,
   "metadata": {
    "execution": {
     "iopub.execute_input": "2022-01-28T14:36:49.145029Z",
     "iopub.status.busy": "2022-01-28T14:36:49.144838Z",
     "iopub.status.idle": "2022-01-28T14:36:49.152307Z",
     "shell.execute_reply": "2022-01-28T14:36:49.151661Z",
     "shell.execute_reply.started": "2022-01-28T14:36:49.144994Z"
    }
   },
   "outputs": [],
   "source": [
    "class EarlyStopping:\r\n",
    "    \"\"\"Early stops the training if validation loss doesn't improve after a given patience.\"\"\"\r\n",
    "    def __init__(self, patience=7, verbose=False, delta=0):\r\n",
    "        \"\"\"\r\n",
    "        Args:\r\n",
    "            patience (int): How long to wait after last time validation loss improved.\r\n",
    "                            Default: 7\r\n",
    "            verbose (bool): If True, prints a message for each validation loss improvement.\r\n",
    "                            Default: False\r\n",
    "            delta (float): Minimum change in the monitored quantity to qualify as an improvement.\r\n",
    "                            Default: 0\r\n",
    "        \"\"\"\r\n",
    "        self.patience = patience\r\n",
    "        self.verbose = verbose\r\n",
    "        self.counter = 0\r\n",
    "        self.best_score = None\r\n",
    "        self.early_stop = False\r\n",
    "        self.val_loss_min = np.Inf\r\n",
    "        self.delta = delta\r\n",
    "\r\n",
    "    def __call__(self, val_loss, model):\r\n",
    "\r\n",
    "        score = -val_loss\r\n",
    "\r\n",
    "        if self.best_score is None:\r\n",
    "            self.best_score = score\r\n",
    "            self.save_checkpoint(val_loss, model)\r\n",
    "        elif score < self.best_score + self.delta:\r\n",
    "            self.counter += 1\r\n",
    "            print(f'EarlyStopping counter: {self.counter} out of {self.patience}')\r\n",
    "            if self.counter >= self.patience:\r\n",
    "                self.early_stop = True\r\n",
    "        else:\r\n",
    "            self.best_score = score\r\n",
    "            self.save_checkpoint(val_loss, model)\r\n",
    "            self.counter = 0\r\n",
    "\r\n",
    "    def save_checkpoint(self, val_loss, model):\r\n",
    "        '''\r\n",
    "        Saves model when validation loss decrease.\r\n",
    "        '''\r\n",
    "        if self.verbose:\r\n",
    "            print(f'Validation loss decreased ({self.val_loss_min:.6f} --> {val_loss:.6f}).  Saving model ...\\n')\r\n",
    "        # torch.save(model.state_dict(), 'checkpoint.pt')\r\n",
    "        # torch.save(model, 'finish_model.pkl')\r\n",
    "        self.val_loss_min = val_loss"
   ]
  },
  {
   "cell_type": "code",
   "execution_count": 10,
   "metadata": {
    "colab": {
     "base_uri": "https://localhost:8080/"
    },
    "execution": {
     "iopub.execute_input": "2022-01-28T14:36:49.153306Z",
     "iopub.status.busy": "2022-01-28T14:36:49.153006Z",
     "iopub.status.idle": "2022-01-28T14:44:17.365310Z",
     "shell.execute_reply": "2022-01-28T14:44:17.364398Z",
     "shell.execute_reply.started": "2022-01-28T14:36:49.153268Z"
    },
    "id": "Uqc3z65l2EaT",
    "outputId": "98ed649b-fd9d-4377-bc60-089baa69390d"
   },
   "outputs": [
    {
     "name": "stdout",
     "output_type": "stream",
     "text": [
      "Epoch 1\n",
      "-------------------------------\n",
      "loss: 2.303844  [    0/16000]\n",
      "loss: 2.338764  [ 1600/16000]\n",
      "loss: 1.807695  [ 3200/16000]\n",
      "loss: 1.635547  [ 4800/16000]\n",
      "loss: 1.607469  [ 6400/16000]\n",
      "loss: 0.939426  [ 8000/16000]\n",
      "loss: 0.718058  [ 9600/16000]\n",
      "loss: 0.943810  [11200/16000]\n",
      "loss: 0.511498  [12800/16000]\n",
      "loss: 1.062936  [14400/16000]\n",
      "Training: \n",
      " Accuracy: 53.29%, Avg loss: 1.372584\n",
      "Validation: \n",
      " Accuracy: 92.65%, Avg loss: 0.265313\n",
      "Validation loss decreased (inf --> 0.265313).  Saving model ...\n",
      "\n",
      "Epoch 2\n",
      "-------------------------------\n",
      "loss: 0.636735  [    0/16000]\n",
      "loss: 0.446164  [ 1600/16000]\n",
      "loss: 0.281829  [ 3200/16000]\n",
      "loss: 0.503872  [ 4800/16000]\n",
      "loss: 0.311919  [ 6400/16000]\n",
      "loss: 0.063846  [ 8000/16000]\n",
      "loss: 0.264429  [ 9600/16000]\n",
      "loss: 0.376614  [11200/16000]\n",
      "loss: 0.228457  [12800/16000]\n",
      "loss: 0.220041  [14400/16000]\n",
      "Training: \n",
      " Accuracy: 87.19%, Avg loss: 0.401797\n",
      "Validation: \n",
      " Accuracy: 98.30%, Avg loss: 0.064467\n",
      "Validation loss decreased (0.265313 --> 0.064467).  Saving model ...\n",
      "\n",
      "Epoch 3\n",
      "-------------------------------\n",
      "loss: 0.160154  [    0/16000]\n",
      "loss: 0.278429  [ 1600/16000]\n",
      "loss: 0.104526  [ 3200/16000]\n",
      "loss: 0.231666  [ 4800/16000]\n",
      "loss: 0.023480  [ 6400/16000]\n",
      "loss: 0.210850  [ 8000/16000]\n",
      "loss: 0.353477  [ 9600/16000]\n",
      "loss: 0.149648  [11200/16000]\n",
      "loss: 0.109221  [12800/16000]\n",
      "loss: 0.139877  [14400/16000]\n",
      "Training: \n",
      " Accuracy: 94.12%, Avg loss: 0.190427\n",
      "Validation: \n",
      " Accuracy: 99.45%, Avg loss: 0.024206\n",
      "Validation loss decreased (0.064467 --> 0.024206).  Saving model ...\n",
      "\n",
      "Epoch 4\n",
      "-------------------------------\n",
      "loss: 0.343843  [    0/16000]\n",
      "loss: 0.224103  [ 1600/16000]\n",
      "loss: 0.166066  [ 3200/16000]\n",
      "loss: 0.152122  [ 4800/16000]\n",
      "loss: 0.000374  [ 6400/16000]\n",
      "loss: 0.006696  [ 8000/16000]\n",
      "loss: 0.080262  [ 9600/16000]\n",
      "loss: 0.040000  [11200/16000]\n",
      "loss: 0.019913  [12800/16000]\n",
      "loss: 0.013722  [14400/16000]\n",
      "Training: \n",
      " Accuracy: 96.74%, Avg loss: 0.112804\n",
      "Validation: \n",
      " Accuracy: 99.60%, Avg loss: 0.014421\n",
      "Validation loss decreased (0.024206 --> 0.014421).  Saving model ...\n",
      "\n",
      "Epoch 5\n",
      "-------------------------------\n",
      "loss: 0.008742  [    0/16000]\n",
      "loss: 0.195152  [ 1600/16000]\n",
      "loss: 0.128327  [ 3200/16000]\n",
      "loss: 0.079465  [ 4800/16000]\n",
      "loss: 0.002727  [ 6400/16000]\n",
      "loss: 0.002576  [ 8000/16000]\n",
      "loss: 0.022000  [ 9600/16000]\n",
      "loss: 0.029552  [11200/16000]\n",
      "loss: 0.005611  [12800/16000]\n",
      "loss: 0.036608  [14400/16000]\n",
      "Training: \n",
      " Accuracy: 97.69%, Avg loss: 0.079077\n",
      "Validation: \n",
      " Accuracy: 99.50%, Avg loss: 0.014874\n",
      "EarlyStopping counter: 1 out of 3\n",
      "Epoch 6\n",
      "-------------------------------\n",
      "loss: 0.038585  [    0/16000]\n",
      "loss: 0.166322  [ 1600/16000]\n",
      "loss: 0.094824  [ 3200/16000]\n",
      "loss: 0.013676  [ 4800/16000]\n",
      "loss: 0.059987  [ 6400/16000]\n",
      "loss: 0.025256  [ 8000/16000]\n",
      "loss: 0.103570  [ 9600/16000]\n",
      "loss: 0.050362  [11200/16000]\n",
      "loss: 0.088623  [12800/16000]\n",
      "loss: 0.021478  [14400/16000]\n",
      "Training: \n",
      " Accuracy: 97.91%, Avg loss: 0.067469\n",
      "Validation: \n",
      " Accuracy: 99.95%, Avg loss: 0.002179\n",
      "Validation loss decreased (0.014421 --> 0.002179).  Saving model ...\n",
      "\n",
      "Epoch 7\n",
      "-------------------------------\n",
      "loss: 0.006904  [    0/16000]\n",
      "loss: 0.004030  [ 1600/16000]\n",
      "loss: 0.046662  [ 3200/16000]\n",
      "loss: 0.003225  [ 4800/16000]\n",
      "loss: 0.002163  [ 6400/16000]\n",
      "loss: 0.002632  [ 8000/16000]\n",
      "loss: 0.334413  [ 9600/16000]\n",
      "loss: 0.066439  [11200/16000]\n",
      "loss: 0.005900  [12800/16000]\n",
      "loss: 0.005246  [14400/16000]\n",
      "Training: \n",
      " Accuracy: 98.59%, Avg loss: 0.046749\n",
      "Validation: \n",
      " Accuracy: 100.00%, Avg loss: 0.000608\n",
      "Validation loss decreased (0.002179 --> 0.000608).  Saving model ...\n",
      "\n",
      "Epoch 8\n",
      "-------------------------------\n",
      "loss: 0.000171  [    0/16000]\n",
      "loss: 0.010222  [ 1600/16000]\n",
      "loss: 0.223636  [ 3200/16000]\n",
      "loss: 0.013017  [ 4800/16000]\n",
      "loss: 0.033592  [ 6400/16000]\n",
      "loss: 0.000580  [ 8000/16000]\n",
      "loss: 0.001748  [ 9600/16000]\n",
      "loss: 0.001096  [11200/16000]\n",
      "loss: 0.016971  [12800/16000]\n",
      "loss: 0.005343  [14400/16000]\n",
      "Training: \n",
      " Accuracy: 99.04%, Avg loss: 0.035120\n",
      "Validation: \n",
      " Accuracy: 99.85%, Avg loss: 0.004964\n",
      "EarlyStopping counter: 1 out of 3\n",
      "Epoch 9\n",
      "-------------------------------\n",
      "loss: 0.032470  [    0/16000]\n",
      "loss: 0.029970  [ 1600/16000]\n",
      "loss: 0.000915  [ 3200/16000]\n",
      "loss: 0.013260  [ 4800/16000]\n",
      "loss: 0.001651  [ 6400/16000]\n",
      "loss: 0.050651  [ 8000/16000]\n",
      "loss: 0.013812  [ 9600/16000]\n",
      "loss: 0.002263  [11200/16000]\n",
      "loss: 0.001254  [12800/16000]\n",
      "loss: 0.000255  [14400/16000]\n",
      "Training: \n",
      " Accuracy: 98.86%, Avg loss: 0.037894\n",
      "Validation: \n",
      " Accuracy: 99.95%, Avg loss: 0.002088\n",
      "EarlyStopping counter: 2 out of 3\n",
      "Epoch 10\n",
      "-------------------------------\n",
      "loss: 0.009284  [    0/16000]\n",
      "loss: 0.001128  [ 1600/16000]\n",
      "loss: 0.006987  [ 3200/16000]\n",
      "loss: 0.021403  [ 4800/16000]\n",
      "loss: 0.337785  [ 6400/16000]\n",
      "loss: 0.000095  [ 8000/16000]\n",
      "loss: 0.001844  [ 9600/16000]\n",
      "loss: 0.001994  [11200/16000]\n",
      "loss: 0.002057  [12800/16000]\n",
      "loss: 0.000959  [14400/16000]\n",
      "Training: \n",
      " Accuracy: 99.00%, Avg loss: 0.032523\n",
      "Validation: \n",
      " Accuracy: 100.00%, Avg loss: 0.000275\n",
      "Validation loss decreased (0.000608 --> 0.000275).  Saving model ...\n",
      "\n",
      "Epoch 11\n",
      "-------------------------------\n",
      "loss: 0.002081  [    0/16000]\n",
      "loss: 0.002627  [ 1600/16000]\n",
      "loss: 0.018358  [ 3200/16000]\n",
      "loss: 0.008176  [ 4800/16000]\n",
      "loss: 0.000158  [ 6400/16000]\n",
      "loss: 0.037233  [ 8000/16000]\n",
      "loss: 0.253731  [ 9600/16000]\n",
      "loss: 0.036756  [11200/16000]\n",
      "loss: 0.004891  [12800/16000]\n",
      "loss: 0.021952  [14400/16000]\n",
      "Training: \n",
      " Accuracy: 99.04%, Avg loss: 0.029420\n",
      "Validation: \n",
      " Accuracy: 100.00%, Avg loss: 0.000569\n",
      "EarlyStopping counter: 1 out of 3\n",
      "Epoch 12\n",
      "-------------------------------\n",
      "loss: 0.000555  [    0/16000]\n",
      "loss: 0.030689  [ 1600/16000]\n",
      "loss: 0.000223  [ 3200/16000]\n",
      "loss: 0.000912  [ 4800/16000]\n",
      "loss: 0.003329  [ 6400/16000]\n",
      "loss: 0.135541  [ 8000/16000]\n",
      "loss: 0.069698  [ 9600/16000]\n",
      "loss: 0.004677  [11200/16000]\n",
      "loss: 0.002349  [12800/16000]\n",
      "loss: 0.002859  [14400/16000]\n",
      "Training: \n",
      " Accuracy: 99.20%, Avg loss: 0.023490\n",
      "Validation: \n",
      " Accuracy: 100.00%, Avg loss: 0.000070\n",
      "Validation loss decreased (0.000275 --> 0.000070).  Saving model ...\n",
      "\n",
      "Epoch 13\n",
      "-------------------------------\n",
      "loss: 0.001615  [    0/16000]\n",
      "loss: 0.000713  [ 1600/16000]\n",
      "loss: 0.001130  [ 3200/16000]\n",
      "loss: 0.000544  [ 4800/16000]\n",
      "loss: 0.100991  [ 6400/16000]\n",
      "loss: 0.011747  [ 8000/16000]\n",
      "loss: 0.000043  [ 9600/16000]\n",
      "loss: 0.000211  [11200/16000]\n",
      "loss: 0.071004  [12800/16000]\n",
      "loss: 0.014103  [14400/16000]\n",
      "Training: \n",
      " Accuracy: 99.33%, Avg loss: 0.022794\n",
      "Validation: \n",
      " Accuracy: 100.00%, Avg loss: 0.000068\n",
      "EarlyStopping counter: 1 out of 3\n",
      "Epoch 14\n",
      "-------------------------------\n",
      "loss: 0.029854  [    0/16000]\n",
      "loss: 0.005278  [ 1600/16000]\n",
      "loss: 0.000538  [ 3200/16000]\n",
      "loss: 0.002541  [ 4800/16000]\n",
      "loss: 0.009525  [ 6400/16000]\n",
      "loss: 0.021161  [ 8000/16000]\n",
      "loss: 0.002416  [ 9600/16000]\n",
      "loss: 0.000508  [11200/16000]\n",
      "loss: 0.000917  [12800/16000]\n",
      "loss: 0.000366  [14400/16000]\n",
      "Training: \n",
      " Accuracy: 99.02%, Avg loss: 0.029422\n",
      "Validation: \n",
      " Accuracy: 100.00%, Avg loss: 0.000081\n",
      "EarlyStopping counter: 2 out of 3\n",
      "Epoch 15\n",
      "-------------------------------\n",
      "loss: 0.001036  [    0/16000]\n",
      "loss: 0.000131  [ 1600/16000]\n",
      "loss: 0.000353  [ 3200/16000]\n",
      "loss: 0.002222  [ 4800/16000]\n",
      "loss: 0.000604  [ 6400/16000]\n",
      "loss: 0.000966  [ 8000/16000]\n",
      "loss: 0.010871  [ 9600/16000]\n",
      "loss: 0.002474  [11200/16000]\n",
      "loss: 0.004178  [12800/16000]\n",
      "loss: 0.000117  [14400/16000]\n",
      "Training: \n",
      " Accuracy: 99.46%, Avg loss: 0.019612\n",
      "Validation: \n",
      " Accuracy: 100.00%, Avg loss: 0.000043\n",
      "EarlyStopping counter: 3 out of 3\n",
      "Early stopping at 15\n",
      "Done!\n"
     ]
    }
   ],
   "source": [
    "loss_fn = nn.CrossEntropyLoss()\n",
    "optimizer = torch.optim.SGD(model.parameters(), lr=Params.learning_rate, momentum=Params.momentum)\n",
    "\n",
    "early_stopping = EarlyStopping(patience=3, verbose=True, delta=1e-4)\n",
    "stop_epoch = Params.epochs\n",
    "\n",
    "for t in range(Params.epochs):\n",
    "  print(f\"Epoch {t+1}\\n-------------------------------\")\n",
    "  train_size = int(20000*0.7)\n",
    "  val_size = int(20000*0.1)\n",
    "\n",
    "  _, val_dataset = torch.utils.data.random_split(train_dataset, [train_size, val_size])\n",
    "  val_dataset.is_train = False\n",
    "\n",
    "  train_dataloader = DataLoader(train_dataset, batch_size=Params.batch_size, shuffle=True, num_workers=2, pin_memory=True)\n",
    "  val_dataloader = DataLoader(val_dataset, batch_size=Params.batch_size, shuffle=True, num_workers=2, pin_memory=True)\n",
    "  train(train_dataloader, model, loss_fn, optimizer)\n",
    "  validate(val_dataloader, model, loss_fn)\n",
    "\n",
    "  val_loss = history[\"val_loss\"][-1]\n",
    "  early_stopping(val_loss, model)\n",
    "\n",
    "  if early_stopping.early_stop:\n",
    "    stop_epoch = t + 1\n",
    "    print(f\"Early stopping at {t + 1}\")\n",
    "    break\n",
    "\n",
    "print(\"Done!\")\n"
   ]
  },
  {
   "cell_type": "code",
   "execution_count": 11,
   "metadata": {
    "execution": {
     "iopub.execute_input": "2022-01-28T14:44:17.366804Z",
     "iopub.status.busy": "2022-01-28T14:44:17.366453Z",
     "iopub.status.idle": "2022-01-28T14:44:22.991140Z",
     "shell.execute_reply": "2022-01-28T14:44:22.989995Z",
     "shell.execute_reply.started": "2022-01-28T14:44:17.366641Z"
    },
    "id": "pNtVSNfV7B2v"
   },
   "outputs": [
    {
     "name": "stdout",
     "output_type": "stream",
     "text": [
      "Test Error: \n",
      " Accuracy: 99.95%, Avg loss: 0.004932 \n",
      "\n"
     ]
    }
   ],
   "source": [
    "test_dataloader = DataLoader(test_dataset, batch_size=Params.batch_size, shuffle=True, num_workers=2, pin_memory=True)\n",
    "test(test_dataloader, model, loss_fn)"
   ]
  },
  {
   "cell_type": "code",
   "execution_count": 12,
   "metadata": {
    "execution": {
     "iopub.execute_input": "2022-01-28T14:44:22.993340Z",
     "iopub.status.busy": "2022-01-28T14:44:22.992849Z",
     "iopub.status.idle": "2022-01-28T14:44:22.996964Z",
     "shell.execute_reply": "2022-01-28T14:44:22.996049Z",
     "shell.execute_reply.started": "2022-01-28T14:44:22.993130Z"
    },
    "id": "CgxXEsXHiXnQ"
   },
   "outputs": [],
   "source": [
    "# 保存\n",
    "# torch.save(model, 'model.pkl')\n",
    "# 加载\n",
    "# model = torch.load('\\model.pkl')"
   ]
  },
  {
   "cell_type": "code",
   "execution_count": 13,
   "metadata": {
    "execution": {
     "iopub.execute_input": "2022-01-28T14:44:22.998742Z",
     "iopub.status.busy": "2022-01-28T14:44:22.998313Z",
     "iopub.status.idle": "2022-01-28T14:44:23.759163Z",
     "shell.execute_reply": "2022-01-28T14:44:23.758325Z",
     "shell.execute_reply.started": "2022-01-28T14:44:22.998568Z"
    },
    "id": "mOZhOxq-5ooj"
   },
   "outputs": [
    {
     "name": "stdout",
     "output_type": "stream",
     "text": [
      "Feature batch shape: torch.Size([16, 1, 240, 640])\n",
      "Labels batch shape: torch.Size([16])\n"
     ]
    },
    {
     "data": {
      "image/png": "[encoded data removed]",
      "text/plain": [
       "<Figure size 432x288 with 1 Axes>"
      ]
     },
     "metadata": {
      "needs_background": "light"
     },
     "output_type": "display_data"
    },
    {
     "name": "stdout",
     "output_type": "stream",
     "text": [
      "Label: 8\n"
     ]
    }
   ],
   "source": [
    "# Display image and label.\n",
    "train_features, train_labels = next(iter(train_dataloader))\n",
    "print(f\"Feature batch shape: {train_features.size()}\")\n",
    "print(f\"Labels batch shape: {train_labels.size()}\")\n",
    "img = train_features[0].squeeze()\n",
    "label = train_labels[0]\n",
    "plt.imshow(img)\n",
    "plt.show()\n",
    "print(f\"Label: {label}\")"
   ]
  },
  {
   "cell_type": "code",
   "execution_count": 14,
   "metadata": {
    "execution": {
     "iopub.execute_input": "2022-01-28T14:44:23.762324Z",
     "iopub.status.busy": "2022-01-28T14:44:23.762095Z",
     "iopub.status.idle": "2022-01-28T14:44:24.380061Z",
     "shell.execute_reply": "2022-01-28T14:44:24.379371Z",
     "shell.execute_reply.started": "2022-01-28T14:44:23.762283Z"
    },
    "id": "FrKScFaBxEV4"
   },
   "outputs": [
    {
     "data": {
      "image/png": "[encoded data removed]",
      "text/plain": [
       "<Figure size 432x288 with 1 Axes>"
      ]
     },
     "metadata": {
      "needs_background": "light"
     },
     "output_type": "display_data"
    },
    {
     "data": {
      "image/png": "[encoded data removed]",
      "text/plain": [
       "<Figure size 432x288 with 1 Axes>"
      ]
     },
     "metadata": {
      "needs_background": "light"
     },
     "output_type": "display_data"
    },
    {
     "data": {
      "image/png": "[encoded data removed]",
      "text/plain": [
       "<Figure size 432x288 with 1 Axes>"
      ]
     },
     "metadata": {
      "needs_background": "light"
     },
     "output_type": "display_data"
    },
    {
     "data": {
      "image/png": "[encoded data removed]",
      "text/plain": [
       "<Figure size 432x288 with 1 Axes>"
      ]
     },
     "metadata": {
      "needs_background": "light"
     },
     "output_type": "display_data"
    },
    {
     "data": {
      "image/png": "[encoded data removed]",
      "text/plain": [
       "<Figure size 432x288 with 1 Axes>"
      ]
     },
     "metadata": {
      "needs_background": "light"
     },
     "output_type": "display_data"
    }
   ],
   "source": [
    "fig = plt.figure()  # 新建一张图\n",
    "plt.plot(history['loss'], label=\"loss\")\n",
    "plt.title('loss')\n",
    "# plt.ylabel(attr)\n",
    "plt.xlabel('epoch')\n",
    "plt.legend()\n",
    "plt.show()\n",
    "\n",
    "fig = plt.figure()\n",
    "plt.plot(history['acc'], label=\"acc\")\n",
    "plt.title('acc')\n",
    "# plt.ylabel(attr)\n",
    "plt.xlabel('epoch')\n",
    "plt.legend()\n",
    "plt.show()\n",
    "\n",
    "fig = plt.figure()\n",
    "# plt.plot(history[\"loss\"], label='training loss')\n",
    "plt.plot(history['val_loss'], label=\"val_loss\")\n",
    "plt.title('val_loss')\n",
    "# plt.ylabel(attr)\n",
    "plt.xlabel('epoch')\n",
    "plt.legend()\n",
    "plt.show()\n",
    "\n",
    "fig = plt.figure()\n",
    "plt.plot(history['val_acc'], label=\"val_acc\")\n",
    "plt.title('val_acc')\n",
    "# plt.ylabel(attr)\n",
    "plt.xlabel('epoch')\n",
    "plt.legend()\n",
    "plt.show()\n",
    "\n",
    "fig = plt.figure()\n",
    "plt.plot(history['loss_iter'], label=\"loss_iter\")\n",
    "plt.title('loss_iter')\n",
    "# plt.ylabel(attr)\n",
    "plt.xlabel('batch')\n",
    "plt.legend()\n",
    "plt.show()"
   ]
  },
  {
   "cell_type": "code",
   "execution_count": 15,
   "metadata": {
    "execution": {
     "iopub.execute_input": "2022-01-28T14:44:24.381469Z",
     "iopub.status.busy": "2022-01-28T14:44:24.381258Z",
     "iopub.status.idle": "2022-01-28T14:44:24.408896Z",
     "shell.execute_reply": "2022-01-28T14:44:24.408170Z",
     "shell.execute_reply.started": "2022-01-28T14:44:24.381431Z"
    }
   },
   "outputs": [],
   "source": [
    "import json\r\n",
    "\r\n",
    "res = dict()\r\n",
    "res[\"params\"] = dict()\r\n",
    "res[\"params\"][\"batch_size\"] = Params.batch_size\r\n",
    "res[\"params\"][\"learning_rate\"] = Params.learning_rate\r\n",
    "res[\"params\"][\"dropout\"] = Params.dropout\r\n",
    "res[\"params\"][\"momentum\"] = Params.momentum\r\n",
    "res[\"params\"][\"epochs\"] = stop_epoch\r\n",
    "res[\"history\"] = history\r\n",
    "res[\"test\"] = test_res\r\n",
    "\r\n",
    "# print(res)\r\n",
    "\r\n",
    "with open('res.json','w') as outfile:\r\n",
    "    json.dump(res, outfile, ensure_ascii=False)\r\n",
    "    outfile.write('\\n')"
   ]
  }
 ],
 "metadata": {
  "accelerator": "GPU",
  "colab": {
   "authorship_tag": "ABX9TyN2eM1MUoBvesbN3htQrDVi",
   "collapsed_sections": [],
   "mount_file_id": "1A-kc9nn8JQvOF-b6pt6mwVusqGLgQq0R",
   "name": "train_torch.ipynb",
   "provenance": []
  },
  "kernelspec": {
   "display_name": "Python 3",
   "language": "python",
   "name": "naas"
  },
  "language_info": {
   "codemirror_mode": {
    "name": "ipython",
    "version": 3
   },
   "file_extension": ".py",
   "mimetype": "text/x-python",
   "name": "python",
   "nbconvert_exporter": "python",
   "pygments_lexer": "ipython3",
   "version": "3.7.4"
  }
 },
 "nbformat": 4,
 "nbformat_minor": 4
}
