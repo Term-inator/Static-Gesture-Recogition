{
 "cells": [
  {
   "cell_type": "code",
   "execution_count": 22,
   "metadata": {},
   "outputs": [],
   "source": [
    "from PIL import Image\n",
    "from torch.utils.data import Dataset\n",
    "\n",
    "base_path = \"../leapGestRecog/\"\n",
    "people = [\"00\", \"01\", \"02\", \"03\", \"04\", \"05\", \"06\", \"07\", \"08\", \"09\"]\n",
    "gestures = [\"01\", \"02\", \"03\", \"04\", \"05\", \"06\", \"07\", \"08\", \"09\", \"10\"]\n",
    "gestures_map = {\n",
    "    1: \"palm\", \n",
    "    2: \"l\", \n",
    "    3: \"fist\", \n",
    "    4: \"fist_moved\",\n",
    "    5: \"thumb\", \n",
    "    6: \"index\", \n",
    "    7: \"ok\", \n",
    "    8: \"palm_moved\", \n",
    "    9: \"c\",\n",
    "    10: \"down\"\n",
    "}\n",
    "\n",
    "class GestureDataset(Dataset):\n",
    "  def __init__(self, transform = None, target_transform = None):\n",
    "    img_labels = []\n",
    "    for person in range(10):\n",
    "      for label in range(1, 11):\n",
    "        path = \"%s/%s_%s/\" % (str(person).zfill(2), str(label).zfill(2), gestures_map[label])\n",
    "        for id in range(1, 201):\n",
    "          filename = \"frame_%s_%s_%s.png\" % (str(person).zfill(2), str(label).zfill(2), str(id).zfill(4))\n",
    "          img_labels.append((base_path + path + filename, label))\n",
    "          \n",
    "    self.img_labels = img_labels \n",
    "    self.transform = transform\n",
    "    self.target_transform = target_transform\n",
    "  def __getitem__(self, index):\n",
    "    path, label = self.img_labels[index]\n",
    "    img = Image.open(path).convert('1') # convert to black and white\n",
    "    if self.transform is not None:\n",
    "      img = self.transform(img) \n",
    "    return img, label\n",
    "  def __len__(self):\n",
    "    return len(self.img_labels)"
   ]
  },
  {
   "cell_type": "code",
   "execution_count": 23,
   "metadata": {},
   "outputs": [],
   "source": [
    "from torchvision import transforms\n",
    "from torch.utils.data import DataLoader\n",
    "\n",
    "gesture_dataset = GestureDataset(transform=transforms.ToTensor())\n",
    "\n",
    "train_dataloader = DataLoader(gesture_dataset, batch_size=64, shuffle=True)\n",
    "# test_dataloader = DataLoader(test_data, batch_size=64, shuffle=True)"
   ]
  },
  {
   "cell_type": "code",
   "execution_count": 24,
   "metadata": {},
   "outputs": [
    {
     "name": "stdout",
     "output_type": "stream",
     "text": [
      "torch.Size([64, 3, 240, 640])\n",
      "tensor([ 3,  3,  7,  6,  3,  5,  6,  4,  9,  2,  3, 10,  1,  8, 10,  1,  5,  3,\n",
      "         1,  1,  4,  4,  1,  2,  8,  8,  1,  5,  2,  2,  6,  7,  7, 10,  6,  4,\n",
      "         7,  9,  7, 10,  7,  5,  5,  1,  2,  2, 10, 10,  9,  6,  5,  1,  2,  2,\n",
      "         4,  5,  3,  4,  8,  4,  9,  6,  2,  9])\n"
     ]
    }
   ],
   "source": [
    "for image, label in train_dataloader:\n",
    "  print(image.shape)\n",
    "  print(label)\n",
    "  break"
   ]
  }
 ],
 "metadata": {
  "interpreter": {
   "hash": "919eb0904b72c37e8d6c7e3b2f7b6f162c89cafcc297fba09b2d10c79c52f5eb"
  },
  "kernelspec": {
   "display_name": "Python 3.7.3 64-bit ('base': conda)",
   "language": "python",
   "name": "python3"
  },
  "language_info": {
   "codemirror_mode": {
    "name": "ipython",
    "version": 3
   },
   "file_extension": ".py",
   "mimetype": "text/x-python",
   "name": "python",
   "nbconvert_exporter": "python",
   "pygments_lexer": "ipython3",
   "version": "3.7.3"
  },
  "orig_nbformat": 4
 },
 "nbformat": 4,
 "nbformat_minor": 2
}
