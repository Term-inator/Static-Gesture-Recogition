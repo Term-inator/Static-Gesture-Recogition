{
 "cells": [
  {
   "cell_type": "code",
   "execution_count": null,
   "metadata": {},
   "outputs": [],
   "source": [
    "from PIL import Image\n",
    "from torch.utils.data import Dataset\n",
    "\n",
    "base_path = \"../leapGestRecog/\"\n",
    "people = [\"00\", \"01\", \"02\", \"03\", \"04\", \"05\", \"06\", \"07\", \"08\", \"09\"]\n",
    "gestures = [\"01\", \"02\", \"03\", \"04\", \"05\", \"06\", \"07\", \"08\", \"09\", \"10\"]\n",
    "gestures_map = {\n",
    "    1: \"palm\", \n",
    "    2: \"l\", \n",
    "    3: \"fist\", \n",
    "    4: \"fist_moved\",\n",
    "    5: \"thumb\", \n",
    "    6: \"index\", \n",
    "    7: \"ok\", \n",
    "    8: \"palm_moved\", \n",
    "    9: \"c\",\n",
    "    10: \"down\"\n",
    "}\n",
    "\n",
    "class GestureDataset(Dataset):\n",
    "  def __init__(self, transform = None, target_transform = None):\n",
    "    img_labels = []\n",
    "    for person in range(10):\n",
    "      for label in range(1, 11):\n",
    "        path = \"%s/%s_%s/\" % (str(person).zfill(2), str(label).zfill(2), gestures_map[label])\n",
    "        for id in range(1, 201):\n",
    "          filename = \"frame_%s_%s_%s.png\" % (str(person).zfill(2), str(label).zfill(2), str(id).zfill(4))\n",
    "          img_labels.append((base_path + path + filename, label))\n",
    "          \n",
    "    self.img_labels = img_labels \n",
    "    self.transform = transform\n",
    "    self.target_transform = target_transform\n",
    "  def __getitem__(self, index):\n",
    "    path, label = self.img_labels[index]\n",
    "    img = Image.open(path).convert('1') # convert to black and white\n",
    "    if self.transform is not None:\n",
    "      img = self.transform(img)\n",
    "    print(type(img))\n",
    "    img = img / 255\n",
    "    return img, label\n",
    "  def __len__(self):\n",
    "    return len(self.img_labels)"
   ]
  },
  {
   "cell_type": "code",
   "execution_count": null,
   "metadata": {},
   "outputs": [],
   "source": [
    "from torchvision import transforms\n",
    "from torch.utils.data import DataLoader\n",
    "\n",
    "gesture_dataset = GestureDataset(transform=transforms.ToTensor())\n",
    "\n",
    "train_dataloader = DataLoader(gesture_dataset, batch_size=8, shuffle=True)\n",
    "# test_dataloader = DataLoader(test_data, batch_size=64, shuffle=True)"
   ]
  },
  {
   "cell_type": "code",
   "execution_count": null,
   "metadata": {},
   "outputs": [],
   "source": [
    "import matplotlib.pyplot as plt\n",
    "\n",
    "# Display image and label.\n",
    "train_features, train_labels = next(iter(train_dataloader))\n",
    "print(f\"Feature batch shape: {train_features.size()}\")\n",
    "print(f\"Labels batch shape: {train_labels.size()}\")\n",
    "img = train_features[0].squeeze()\n",
    "for pix in img:\n",
    "  print(pix, end=\" \")\n",
    "label = train_labels[0]\n",
    "plt.imshow(img)\n",
    "plt.show()\n",
    "print(f\"Label: {label}\")"
   ]
  },
  {
   "cell_type": "code",
   "execution_count": 1,
   "metadata": {},
   "outputs": [
    {
     "name": "stdout",
     "output_type": "stream",
     "text": [
      "Using cuda device\n"
     ]
    }
   ],
   "source": [
    "import os\n",
    "import torch\n",
    "from torch import nn\n",
    "import torch.nn.functional as F\n",
    "from torch.utils.data import DataLoader\n",
    "from torchvision import datasets, transforms\n",
    "\n",
    "device = 'cuda' if torch.cuda.is_available() else 'cpu'\n",
    "print(f'Using {device} device')\n",
    "\n",
    "class Model(nn.Module):\n",
    "  def __init__(self, dropout=0.2):\n",
    "    super(Model, self).__init__()\n",
    "    self.conv1 = nn.Conv2d(1,32, kernel_size=3, padding=1)\n",
    "    self.conv2 = nn.Conv2d(32, 128, kernel_size=3, padding=1) # TODO Expected input batch_size (1024) to match target batch_size (8). 1024:8=128:1\n",
    "    self.conv2_drop = nn.Dropout2d(p=dropout)\n",
    "    self.fc1 = nn.Linear(9600, 100) # 9600 = number channels * width * height\n",
    "    self.fc2 = nn.Linear(100, 10)\n",
    "    self.fc1_drop = nn.Dropout(p=dropout)\n",
    "\n",
    "  def forward(self, x):\n",
    "    # print(x.size(0))\n",
    "    # print(x.shape)\n",
    "    x = torch.relu(F.max_pool2d(self.conv1(x), 2))\n",
    "    # print(x.shape)\n",
    "    x = torch.relu(F.max_pool2d(self.conv2_drop(self.conv2(x)), 2))\n",
    "    \n",
    "    # flatten over channel, height and width = 9600\n",
    "    # print(x.shape)\n",
    "    x = x.view(x.size(0), x.size(1), x.size(2) * x.size(3))\n",
    "    \n",
    "    x = torch.relu(self.fc1_drop(self.fc1(x)))\n",
    "    # x = torch.softmax(self.fc2(x), dim=-1)\n",
    "    x = torch.relu(self.fc2(x))\n",
    "    return x\n",
    "\n",
    "\n",
    "model = Model().to(device)"
   ]
  },
  {
   "cell_type": "code",
   "execution_count": null,
   "metadata": {},
   "outputs": [],
   "source": [
    "\n",
    "def train(dataloader, model, loss_fn, optimizer):\n",
    "  size = len(dataloader.dataset)\n",
    "  model.train()\n",
    "  for batch, (X, y) in enumerate(dataloader):\n",
    "    y = F.one_hot(y - 1, num_classes=10)\n",
    "    X, y = X.to(device), y.to(device)\n",
    "\n",
    "    # Compute prediction error\n",
    "    pred = model(X)\n",
    "    # print(pred.shape)\n",
    "    loss = loss_fn(pred, y)\n",
    "\n",
    "    # Backpropagation\n",
    "    optimizer.zero_grad()\n",
    "    loss.backward()\n",
    "    optimizer.step()\n",
    "\n",
    "    if batch % 100 == 0:\n",
    "      loss, current = loss.item(), batch * len(X)\n",
    "      print(f\"loss: {loss:>7f}  [{current:>5d}/{size:>5d}]\")\n",
    "\n",
    "def test(dataloader, model, loss_fn):\n",
    "  size = len(dataloader.dataset)\n",
    "  num_batches = len(dataloader)\n",
    "  model.eval()\n",
    "  test_loss, correct = 0, 0\n",
    "  with torch.no_grad():\n",
    "    for X, y in dataloader:\n",
    "      X, y = X.to(device), y.to(device)\n",
    "      pred = model(X)\n",
    "      test_loss += loss_fn(pred, y).item()\n",
    "      correct += (pred.argmax(1) == y).type(torch.float).sum().item()\n",
    "  test_loss /= num_batches\n",
    "  correct /= size\n",
    "  print(f\"Test Error: \\n Accuracy: {(100*correct):>0.1f}%, Avg loss: {test_loss:>8f} \\n\")"
   ]
  },
  {
   "cell_type": "code",
   "execution_count": null,
   "metadata": {},
   "outputs": [],
   "source": [
    "loss_fn = nn.CrossEntropyLoss()\n",
    "optimizer = torch.optim.SGD(model.parameters(), lr=1e-3)\n",
    "\n",
    "epochs = 5\n",
    "for t in range(epochs):\n",
    "  print(f\"Epoch {t+1}\\n-------------------------------\")\n",
    "  train(train_dataloader, model, loss_fn, optimizer)\n",
    "  # test(test_dataloader, model, loss_fn)\n",
    "print(\"Done!\")"
   ]
  },
  {
   "cell_type": "code",
   "execution_count": null,
   "metadata": {},
   "outputs": [],
   "source": [
    "# Example of target with class indices\n",
    "loss = nn.CrossEntropyLoss()\n",
    "input = torch.randn(3, 5, requires_grad=True)\n",
    "target = torch.empty(3, dtype=torch.long).random_(5)\n",
    "print(input.shape)\n",
    "print(target.shape)\n",
    "output = loss(input, target)\n",
    "output.backward()"
   ]
  },
  {
   "cell_type": "code",
   "execution_count": null,
   "metadata": {},
   "outputs": [],
   "source": [
    "torch.cuda.is_available()"
   ]
  }
 ],
 "metadata": {
  "interpreter": {
   "hash": "919eb0904b72c37e8d6c7e3b2f7b6f162c89cafcc297fba09b2d10c79c52f5eb"
  },
  "kernelspec": {
   "display_name": "Python 3.7.3 64-bit ('base': conda)",
   "language": "python",
   "name": "python3"
  },
  "language_info": {
   "codemirror_mode": {
    "name": "ipython",
    "version": 3
   },
   "file_extension": ".py",
   "mimetype": "text/x-python",
   "name": "python",
   "nbconvert_exporter": "python",
   "pygments_lexer": "ipython3",
   "version": "3.7.3"
  },
  "orig_nbformat": 4
 },
 "nbformat": 4,
 "nbformat_minor": 2
}
