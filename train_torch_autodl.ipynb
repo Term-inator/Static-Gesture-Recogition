{
 "cells": [
  {
   "cell_type": "code",
   "execution_count": 1,
   "metadata": {
    "execution": {
     "iopub.execute_input": "2022-01-26T15:40:45.359228Z",
     "iopub.status.busy": "2022-01-26T15:40:45.359034Z",
     "iopub.status.idle": "2022-01-26T15:40:46.469184Z",
     "shell.execute_reply": "2022-01-26T15:40:46.468382Z",
     "shell.execute_reply.started": "2022-01-26T15:40:45.359191Z"
    },
    "executionInfo": {
     "elapsed": 6256,
     "status": "ok",
     "timestamp": 1643165628821,
     "user": {
      "displayName": "Bill chen",
      "photoUrl": "https://lh3.googleusercontent.com/a/default-user=s64",
      "userId": "03010122854624571547"
     },
     "user_tz": -480
    },
    "id": "0wpyJ6Pm5bTI"
   },
   "outputs": [],
   "source": [
    "import torch\n",
    "from torch.utils.data import Dataset, DataLoader\n",
    "from torch import nn\n",
    "import torch.nn.functional as F\n",
    "from torchvision import transforms\n",
    "\n",
    "from PIL import Image\n",
    "import matplotlib.pyplot as plt"
   ]
  },
  {
   "cell_type": "code",
   "execution_count": 2,
   "metadata": {
    "execution": {
     "iopub.execute_input": "2022-01-26T15:40:46.470245Z",
     "iopub.status.busy": "2022-01-26T15:40:46.470037Z",
     "iopub.status.idle": "2022-01-26T15:40:46.474364Z",
     "shell.execute_reply": "2022-01-26T15:40:46.473525Z",
     "shell.execute_reply.started": "2022-01-26T15:40:46.470198Z"
    },
    "executionInfo": {
     "elapsed": 61,
     "status": "ok",
     "timestamp": 1643165628823,
     "user": {
      "displayName": "Bill chen",
      "photoUrl": "https://lh3.googleusercontent.com/a/default-user=s64",
      "userId": "03010122854624571547"
     },
     "user_tz": -480
    },
    "id": "zcDkHoWYRld-"
   },
   "outputs": [],
   "source": [
    "class Params:\n",
    "  class_num = 10\n",
    "  batch_size = 16\n",
    "  learning_rate = 0.001\n",
    "  dropout = 0.2\n",
    "  momentum = 0.9\n",
    "  epochs = 10\n"
   ]
  },
  {
   "cell_type": "code",
   "execution_count": 3,
   "metadata": {
    "execution": {
     "iopub.execute_input": "2022-01-26T15:40:46.475456Z",
     "iopub.status.busy": "2022-01-26T15:40:46.475271Z",
     "iopub.status.idle": "2022-01-26T15:40:46.485015Z",
     "shell.execute_reply": "2022-01-26T15:40:46.484184Z",
     "shell.execute_reply.started": "2022-01-26T15:40:46.475421Z"
    },
    "executionInfo": {
     "elapsed": 64,
     "status": "ok",
     "timestamp": 1643165628829,
     "user": {
      "displayName": "Bill chen",
      "photoUrl": "https://lh3.googleusercontent.com/a/default-user=s64",
      "userId": "03010122854624571547"
     },
     "user_tz": -480
    },
    "id": "K9hPcHQZdV_z"
   },
   "outputs": [],
   "source": [
    "base_path = \"data/leapGestRecog/\"\n",
    "people = [\"00\", \"01\", \"02\", \"03\", \"04\", \"05\", \"06\", \"07\", \"08\", \"09\"]\n",
    "gestures = [\"01\", \"02\", \"03\", \"04\", \"05\", \"06\", \"07\", \"08\", \"09\", \"10\"]\n",
    "gestures_map = {\n",
    "    1: \"palm\", \n",
    "    2: \"l\", \n",
    "    3: \"fist\", \n",
    "    4: \"fist_moved\",\n",
    "    5: \"thumb\", \n",
    "    6: \"index\", \n",
    "    7: \"ok\", \n",
    "    8: \"palm_moved\", \n",
    "    9: \"c\",\n",
    "    10: \"down\"\n",
    "}\n",
    "\n",
    "class GestureDataset(Dataset):\n",
    "  def __init__(self, transform = None, target_transform = None):\n",
    "    img_labels = []\n",
    "    for person in range(10):\n",
    "      for label in range(1, 11):\n",
    "        path = \"%s/%s_%s/\" % (str(person).zfill(2), str(label).zfill(2), gestures_map[label])\n",
    "        for id in range(1, 201):\n",
    "          filename = \"frame_%s_%s_%s.png\" % (str(person).zfill(2), str(label).zfill(2), str(id).zfill(4))\n",
    "          img_labels.append((base_path + path + filename, label))\n",
    "          \n",
    "    self.img_labels = img_labels \n",
    "    self.transform = transform\n",
    "    self.target_transform = target_transform\n",
    "  def __getitem__(self, index):\n",
    "    path, label = self.img_labels[index]\n",
    "    img = Image.open(path).convert('L') # convert to black and white\n",
    "    if self.transform is not None:\n",
    "      img = self.transform(img)\n",
    "    return img, label - 1\n",
    "  def __len__(self):\n",
    "    return len(self.img_labels)"
   ]
  },
  {
   "cell_type": "code",
   "execution_count": 4,
   "metadata": {
    "execution": {
     "iopub.execute_input": "2022-01-26T15:40:46.485895Z",
     "iopub.status.busy": "2022-01-26T15:40:46.485718Z",
     "iopub.status.idle": "2022-01-26T15:40:46.568984Z",
     "shell.execute_reply": "2022-01-26T15:40:46.568169Z",
     "shell.execute_reply.started": "2022-01-26T15:40:46.485861Z"
    },
    "executionInfo": {
     "elapsed": 67,
     "status": "ok",
     "timestamp": 1643165628834,
     "user": {
      "displayName": "Bill chen",
      "photoUrl": "https://lh3.googleusercontent.com/a/default-user=s64",
      "userId": "03010122854624571547"
     },
     "user_tz": -480
    },
    "id": "EQliUFhZ15iK"
   },
   "outputs": [],
   "source": [
    "gesture_dataset = GestureDataset(transform=transforms.ToTensor())\n",
    "\n",
    "train_size = int(20000*0.8)\n",
    "test_size = int(20000*0.2)\n",
    "\n",
    "train_dataset, test_dataset = torch.utils.data.random_split(gesture_dataset, [train_size, test_size])"
   ]
  },
  {
   "cell_type": "code",
   "execution_count": 5,
   "metadata": {
    "colab": {
     "base_uri": "https://localhost:8080/"
    },
    "execution": {
     "iopub.execute_input": "2022-01-26T15:40:46.569996Z",
     "iopub.status.busy": "2022-01-26T15:40:46.569806Z",
     "iopub.status.idle": "2022-01-26T15:40:52.435466Z",
     "shell.execute_reply": "2022-01-26T15:40:52.434606Z",
     "shell.execute_reply.started": "2022-01-26T15:40:46.569959Z"
    },
    "executionInfo": {
     "elapsed": 679,
     "status": "ok",
     "timestamp": 1643165629448,
     "user": {
      "displayName": "Bill chen",
      "photoUrl": "https://lh3.googleusercontent.com/a/default-user=s64",
      "userId": "03010122854624571547"
     },
     "user_tz": -480
    },
    "id": "dJl-ZNVW1_pU",
    "outputId": "53955385-498e-40b7-9521-822a9d231240"
   },
   "outputs": [
    {
     "name": "stdout",
     "output_type": "stream",
     "text": [
      "Using cuda device\n"
     ]
    }
   ],
   "source": [
    "device = 'cuda' if torch.cuda.is_available() else 'cpu'\n",
    "print(f'Using {device} device')\n",
    "\n",
    "class Model(nn.Module):\n",
    "  def __init__(self, dropout):\n",
    "    super(Model, self).__init__()\n",
    "    self.conv1 = nn.Conv2d(1,6, kernel_size=5, stride=1, padding=0)\n",
    "    self.max_pool1 = nn.MaxPool2d(kernel_size=2, stride=2, padding=0)\n",
    "    self.conv2 = nn.Conv2d(6, 16, kernel_size=5, padding=0)\n",
    "    self.conv2_drop = nn.Dropout2d(p=dropout)\n",
    "    self.max_pool2 = nn.MaxPool2d(kernel_size=2, stride=2, padding=0)\n",
    "\n",
    "    self.fc1 = nn.Linear(143184, 512) # number channels * width * height\n",
    "    self.fc2 = nn.Linear(512, 10)\n",
    "    self.fc1_drop = nn.Dropout(p=dropout)\n",
    "\n",
    "  def forward(self, x):\n",
    "    # print(x.size(0))\n",
    "    # print(x.shape)\n",
    "    x = torch.relu(self.max_pool1(self.conv1(x)))\n",
    "    # print(x.shape)\n",
    "    x = torch.relu(self.max_pool2(self.conv2_drop(self.conv2(x))))\n",
    "    \n",
    "    # flatten over channel, height and width\n",
    "    # print(x.shape)\n",
    "    x = x.view(x.size(0), x.size(1) * x.size(2) * x.size(3))\n",
    "    \n",
    "    x = torch.relu(self.fc1_drop(self.fc1(x)))\n",
    "    # x = torch.softmax(self.fc2(x), dim=-1)\n",
    "    x = torch.relu(self.fc2(x))\n",
    "    return x\n",
    "\n",
    "\n",
    "model = Model(dropout=Params.dropout).to(device)"
   ]
  },
  {
   "cell_type": "code",
   "execution_count": 6,
   "metadata": {
    "execution": {
     "iopub.execute_input": "2022-01-26T15:40:52.436685Z",
     "iopub.status.busy": "2022-01-26T15:40:52.436470Z",
     "iopub.status.idle": "2022-01-26T15:40:52.450368Z",
     "shell.execute_reply": "2022-01-26T15:40:52.449685Z",
     "shell.execute_reply.started": "2022-01-26T15:40:52.436646Z"
    },
    "executionInfo": {
     "elapsed": 36,
     "status": "ok",
     "timestamp": 1643165629450,
     "user": {
      "displayName": "Bill chen",
      "photoUrl": "https://lh3.googleusercontent.com/a/default-user=s64",
      "userId": "03010122854624571547"
     },
     "user_tz": -480
    },
    "id": "t1tnoC5B2CFN"
   },
   "outputs": [],
   "source": [
    "\n",
    "history = {\n",
    "  \"loss\": [],\n",
    "  \"acc\": [],\n",
    "  \"loss_iter\": [],\n",
    "  \"val_loss\": [],\n",
    "  \"val_acc\": []\n",
    "}\n",
    "\n",
    "def train(dataloader, model, loss_fn, optimizer):\n",
    "  size = len(dataloader.dataset)\n",
    "  num_batches = len(dataloader)\n",
    "  model.train()\n",
    "  epoch_loss, epoch_acc = 0, 0\n",
    "  for batch, (X, y) in enumerate(dataloader):\n",
    "    # y = F.one_hot(y, num_classes=10).float()\n",
    "    X, y = X.to(device), y.to(device)\n",
    "\n",
    "    # Compute prediction error\n",
    "    pred = model(X)\n",
    "    # print(pred.argmax(1))\n",
    "    loss = loss_fn(pred, y)\n",
    "  \n",
    "    history[\"loss_iter\"].append(loss.item())\n",
    "    epoch_loss += loss.item()\n",
    "    epoch_acc += (pred.argmax(1) == y).type(torch.float).sum().item()\n",
    "\n",
    "    # Backpropagation\n",
    "    optimizer.zero_grad()\n",
    "    loss.backward()\n",
    "    optimizer.step()\n",
    "\n",
    "    if batch % 100 == 0:\n",
    "      loss, current = loss.item(), batch * len(X)\n",
    "      print(f\"loss: {loss:>7f}  [{current:>5d}/{size:>5d}]\")\n",
    "  \n",
    "  epoch_loss /= num_batches\n",
    "  epoch_acc /= size\n",
    "  print(epoch_loss)\n",
    "  print(epoch_acc)\n",
    "  history[\"loss\"].append(epoch_loss)\n",
    "  history[\"acc\"].append(epoch_acc)\n",
    "\n",
    "def validate(dataloader, model, loss_fn):\n",
    "  size = len(dataloader.dataset)\n",
    "  num_batches = len(dataloader)\n",
    "  model.eval()\n",
    "  val_loss, correct = 0, 0\n",
    "  with torch.no_grad():\n",
    "    for X, y in dataloader:\n",
    "      X, y = X.to(device), y.to(device)\n",
    "      pred = model(X)\n",
    "      val_loss += loss_fn(pred, y).item()\n",
    "      correct += (pred.argmax(1) == y).type(torch.float).sum().item()\n",
    "  val_loss /= num_batches\n",
    "  correct /= size\n",
    "  history[\"val_loss\"].append(val_loss)\n",
    "  history[\"val_acc\"].append(correct)\n",
    "  print(f\"Validation: \\n Accuracy: {(100*correct):>0.2f}%, Avg loss: {val_loss:>8f} \\n\")\n",
    "\n",
    "def test(dataloader, model, loss_fn):\n",
    "  size = len(dataloader.dataset)\n",
    "  num_batches = len(dataloader)\n",
    "  model.eval()\n",
    "  test_loss, correct = 0, 0\n",
    "  with torch.no_grad():\n",
    "    for X, y in dataloader:\n",
    "      X, y = X.to(device), y.to(device)\n",
    "      pred = model(X)\n",
    "      test_loss += loss_fn(pred, y).item()\n",
    "      correct += (pred.argmax(1) == y).type(torch.float).sum().item()\n",
    "  test_loss /= num_batches\n",
    "  correct /= size\n",
    "  print(f\"Test Error: \\n Accuracy: {(100*correct):>0.2f}%, Avg loss: {test_loss:>8f} \\n\")"
   ]
  },
  {
   "cell_type": "code",
   "execution_count": 7,
   "metadata": {
    "colab": {
     "base_uri": "https://localhost:8080/"
    },
    "execution": {
     "iopub.execute_input": "2022-01-26T15:40:52.451462Z",
     "iopub.status.busy": "2022-01-26T15:40:52.451176Z",
     "iopub.status.idle": "2022-01-26T15:49:10.152996Z",
     "shell.execute_reply": "2022-01-26T15:49:10.152254Z",
     "shell.execute_reply.started": "2022-01-26T15:40:52.451425Z"
    },
    "id": "Uqc3z65l2EaT",
    "outputId": "98ed649b-fd9d-4377-bc60-089baa69390d"
   },
   "outputs": [
    {
     "name": "stdout",
     "output_type": "stream",
     "text": [
      "Epoch 1\n",
      "-------------------------------\n",
      "loss: 2.303192  [    0/16000]\n",
      "loss: 2.056757  [ 1600/16000]\n",
      "loss: 1.788284  [ 3200/16000]\n",
      "loss: 0.960881  [ 4800/16000]\n",
      "loss: 0.867979  [ 6400/16000]\n",
      "loss: 1.458677  [ 8000/16000]\n",
      "loss: 0.529761  [ 9600/16000]\n",
      "loss: 0.360847  [11200/16000]\n",
      "loss: 0.035349  [12800/16000]\n",
      "loss: 0.209107  [14400/16000]\n",
      "0.8498155262097716\n",
      "0.721125\n",
      "Validation: \n",
      " Accuracy: 96.20%, Avg loss: 0.113733 \n",
      "\n",
      "Epoch 2\n",
      "-------------------------------\n",
      "loss: 0.510326  [    0/16000]\n",
      "loss: 0.138888  [ 1600/16000]\n",
      "loss: 0.007964  [ 3200/16000]\n",
      "loss: 0.076489  [ 4800/16000]\n",
      "loss: 0.175050  [ 6400/16000]\n",
      "loss: 0.225042  [ 8000/16000]\n",
      "loss: 0.159763  [ 9600/16000]\n",
      "loss: 0.013363  [11200/16000]\n",
      "loss: 0.022543  [12800/16000]\n",
      "loss: 0.318332  [14400/16000]\n",
      "0.1315462562069297\n",
      "0.9615\n",
      "Validation: \n",
      " Accuracy: 97.10%, Avg loss: 0.087015 \n",
      "\n",
      "Epoch 3\n",
      "-------------------------------\n",
      "loss: 0.004990  [    0/16000]\n",
      "loss: 0.155787  [ 1600/16000]\n",
      "loss: 0.017667  [ 3200/16000]\n",
      "loss: 0.247270  [ 4800/16000]\n",
      "loss: 0.151331  [ 6400/16000]\n",
      "loss: 0.008352  [ 8000/16000]\n",
      "loss: 0.038145  [ 9600/16000]\n",
      "loss: 0.001189  [11200/16000]\n",
      "loss: 0.000252  [12800/16000]\n",
      "loss: 0.018200  [14400/16000]\n",
      "0.07417292144149541\n",
      "0.9761875\n",
      "Validation: \n",
      " Accuracy: 99.75%, Avg loss: 0.010555 \n",
      "\n",
      "Epoch 4\n",
      "-------------------------------\n",
      "loss: 0.010946  [    0/16000]\n",
      "loss: 0.000851  [ 1600/16000]\n",
      "loss: 0.004831  [ 3200/16000]\n",
      "loss: 0.124771  [ 4800/16000]\n",
      "loss: 0.000179  [ 6400/16000]\n",
      "loss: 0.005166  [ 8000/16000]\n",
      "loss: 0.018512  [ 9600/16000]\n",
      "loss: 0.011599  [11200/16000]\n",
      "loss: 0.021072  [12800/16000]\n",
      "loss: 0.001785  [14400/16000]\n",
      "0.03470059282332659\n",
      "0.9908125\n",
      "Validation: \n",
      " Accuracy: 99.60%, Avg loss: 0.014095 \n",
      "\n",
      "Epoch 5\n",
      "-------------------------------\n",
      "loss: 0.001361  [    0/16000]\n",
      "loss: 0.030310  [ 1600/16000]\n",
      "loss: 0.053902  [ 3200/16000]\n",
      "loss: 0.003003  [ 4800/16000]\n",
      "loss: 0.003402  [ 6400/16000]\n",
      "loss: 0.025155  [ 8000/16000]\n",
      "loss: 0.129361  [ 9600/16000]\n",
      "loss: 0.000231  [11200/16000]\n",
      "loss: 0.001034  [12800/16000]\n",
      "loss: 0.000250  [14400/16000]\n",
      "0.024799693286418914\n",
      "0.9928125\n",
      "Validation: \n",
      " Accuracy: 99.80%, Avg loss: 0.010293 \n",
      "\n",
      "Epoch 6\n",
      "-------------------------------\n",
      "loss: 0.023409  [    0/16000]\n",
      "loss: 0.003434  [ 1600/16000]\n",
      "loss: 0.000233  [ 3200/16000]\n",
      "loss: 0.021994  [ 4800/16000]\n",
      "loss: 0.002327  [ 6400/16000]\n",
      "loss: 0.002058  [ 8000/16000]\n",
      "loss: 0.001315  [ 9600/16000]\n",
      "loss: 0.003554  [11200/16000]\n",
      "loss: 0.000999  [12800/16000]\n",
      "loss: 0.431291  [14400/16000]\n",
      "0.024201027169823648\n",
      "0.9928125\n",
      "Validation: \n",
      " Accuracy: 99.85%, Avg loss: 0.003384 \n",
      "\n",
      "Epoch 7\n",
      "-------------------------------\n",
      "loss: 0.000316  [    0/16000]\n",
      "loss: 0.001684  [ 1600/16000]\n",
      "loss: 0.003811  [ 3200/16000]\n",
      "loss: 0.000608  [ 4800/16000]\n",
      "loss: 0.003296  [ 6400/16000]\n",
      "loss: 0.013910  [ 8000/16000]\n",
      "loss: 0.002183  [ 9600/16000]\n",
      "loss: 0.101447  [11200/16000]\n",
      "loss: 0.002104  [12800/16000]\n",
      "loss: 0.001233  [14400/16000]\n",
      "0.01783029892295599\n",
      "0.9950625\n",
      "Validation: \n",
      " Accuracy: 100.00%, Avg loss: 0.000701 \n",
      "\n",
      "Epoch 8\n",
      "-------------------------------\n",
      "loss: 0.000275  [    0/16000]\n",
      "loss: 0.000080  [ 1600/16000]\n",
      "loss: 0.005403  [ 3200/16000]\n",
      "loss: 0.000181  [ 4800/16000]\n",
      "loss: 0.001351  [ 6400/16000]\n",
      "loss: 0.000196  [ 8000/16000]\n",
      "loss: 0.001907  [ 9600/16000]\n",
      "loss: 0.000030  [11200/16000]\n",
      "loss: 0.000241  [12800/16000]\n",
      "loss: 0.001152  [14400/16000]\n",
      "0.013027704142034054\n",
      "0.996625\n",
      "Validation: \n",
      " Accuracy: 99.95%, Avg loss: 0.002849 \n",
      "\n",
      "Epoch 9\n",
      "-------------------------------\n",
      "loss: 0.000105  [    0/16000]\n",
      "loss: 0.002648  [ 1600/16000]\n",
      "loss: 0.000516  [ 3200/16000]\n",
      "loss: 0.000048  [ 4800/16000]\n",
      "loss: 0.001912  [ 6400/16000]\n",
      "loss: 0.000427  [ 8000/16000]\n",
      "loss: 0.001586  [ 9600/16000]\n",
      "loss: 0.000078  [11200/16000]\n",
      "loss: 0.000565  [12800/16000]\n",
      "loss: 0.024606  [14400/16000]\n",
      "0.008656899809837342\n",
      "0.9976875\n",
      "Validation: \n",
      " Accuracy: 99.95%, Avg loss: 0.000603 \n",
      "\n",
      "Epoch 10\n",
      "-------------------------------\n",
      "loss: 0.008593  [    0/16000]\n",
      "loss: 0.015371  [ 1600/16000]\n",
      "loss: 0.000014  [ 3200/16000]\n",
      "loss: 0.000598  [ 4800/16000]\n",
      "loss: 0.076089  [ 6400/16000]\n",
      "loss: 0.000073  [ 8000/16000]\n",
      "loss: 0.001607  [ 9600/16000]\n",
      "loss: 0.000131  [11200/16000]\n",
      "loss: 0.000025  [12800/16000]\n",
      "loss: 0.000157  [14400/16000]\n",
      "0.00600205634534359\n",
      "0.998375\n",
      "Validation: \n",
      " Accuracy: 100.00%, Avg loss: 0.000192 \n",
      "\n",
      "Done!\n"
     ]
    }
   ],
   "source": [
    "loss_fn = nn.CrossEntropyLoss()\n",
    "optimizer = torch.optim.SGD(model.parameters(), lr=Params.learning_rate, momentum=Params.momentum)\n",
    "\n",
    "\n",
    "for t in range(Params.epochs):\n",
    "  print(f\"Epoch {t+1}\\n-------------------------------\")\n",
    "  train_size = int(20000*0.7)\n",
    "  val_size = int(20000*0.1)\n",
    "  \n",
    "  _, val_dataset = torch.utils.data.random_split(train_dataset, [train_size, val_size])\n",
    "\n",
    "  train_dataloader = DataLoader(train_dataset, batch_size=Params.batch_size, shuffle=True, num_workers=0, pin_memory=True)\n",
    "  val_dataloader = DataLoader(val_dataset, batch_size=Params.batch_size, shuffle=True, num_workers=0, pin_memory=True)\n",
    "  train(train_dataloader, model, loss_fn, optimizer)\n",
    "  validate(val_dataloader, model, loss_fn)\n",
    "print(\"Done!\")\n"
   ]
  },
  {
   "cell_type": "code",
   "execution_count": 8,
   "metadata": {
    "execution": {
     "iopub.execute_input": "2022-01-26T15:49:10.154063Z",
     "iopub.status.busy": "2022-01-26T15:49:10.153854Z",
     "iopub.status.idle": "2022-01-26T15:49:20.518577Z",
     "shell.execute_reply": "2022-01-26T15:49:20.517833Z",
     "shell.execute_reply.started": "2022-01-26T15:49:10.154025Z"
    },
    "id": "pNtVSNfV7B2v"
   },
   "outputs": [
    {
     "name": "stdout",
     "output_type": "stream",
     "text": [
      "Test Error: \n",
      " Accuracy: 99.98%, Avg loss: 0.001754 \n",
      "\n"
     ]
    }
   ],
   "source": [
    "test_dataloader = DataLoader(test_dataset, batch_size=Params.batch_size, shuffle=True, num_workers=0, pin_memory=True)\n",
    "test(test_dataloader, model, loss_fn)"
   ]
  },
  {
   "cell_type": "code",
   "execution_count": 9,
   "metadata": {
    "execution": {
     "iopub.execute_input": "2022-01-26T15:49:20.519718Z",
     "iopub.status.busy": "2022-01-26T15:49:20.519500Z",
     "iopub.status.idle": "2022-01-26T15:49:21.041928Z",
     "shell.execute_reply": "2022-01-26T15:49:21.041161Z",
     "shell.execute_reply.started": "2022-01-26T15:49:20.519677Z"
    },
    "id": "CgxXEsXHiXnQ"
   },
   "outputs": [
    {
     "name": "stderr",
     "output_type": "stream",
     "text": [
      "/home/work/.data/webide/pip/lib/python3.7/site-packages/torch/serialization.py:360: UserWarning: Couldn't retrieve source code for container of type Model. It won't be checked for correctness upon loading.\n",
      "  \"type \" + obj.__name__ + \". It won't be checked \"\n"
     ]
    }
   ],
   "source": [
    "# 保存\n",
    "torch.save(model, 'model.pkl')\n",
    "# 加载\n",
    "# model = torch.load('\\model.pkl')"
   ]
  },
  {
   "cell_type": "code",
   "execution_count": 10,
   "metadata": {
    "execution": {
     "iopub.execute_input": "2022-01-26T15:49:21.043309Z",
     "iopub.status.busy": "2022-01-26T15:49:21.042837Z",
     "iopub.status.idle": "2022-01-26T15:49:21.219093Z",
     "shell.execute_reply": "2022-01-26T15:49:21.218351Z",
     "shell.execute_reply.started": "2022-01-26T15:49:21.043076Z"
    },
    "id": "mOZhOxq-5ooj"
   },
   "outputs": [
    {
     "name": "stdout",
     "output_type": "stream",
     "text": [
      "Feature batch shape: torch.Size([16, 1, 240, 640])\n",
      "Labels batch shape: torch.Size([16])\n"
     ]
    },
    {
     "data": {
      "image/png": "[encoded data removed]",
      "text/plain": [
       "<Figure size 432x288 with 1 Axes>"
      ]
     },
     "metadata": {
      "needs_background": "light"
     },
     "output_type": "display_data"
    },
    {
     "name": "stdout",
     "output_type": "stream",
     "text": [
      "Label: 7\n"
     ]
    }
   ],
   "source": [
    "# Display image and label.\n",
    "train_features, train_labels = next(iter(train_dataloader))\n",
    "print(f\"Feature batch shape: {train_features.size()}\")\n",
    "print(f\"Labels batch shape: {train_labels.size()}\")\n",
    "img = train_features[0].squeeze()\n",
    "label = train_labels[0]\n",
    "plt.imshow(img)\n",
    "plt.show()\n",
    "print(f\"Label: {label}\")"
   ]
  },
  {
   "cell_type": "code",
   "execution_count": 13,
   "metadata": {
    "execution": {
     "iopub.execute_input": "2022-01-26T15:54:25.298857Z",
     "iopub.status.busy": "2022-01-26T15:54:25.298319Z",
     "iopub.status.idle": "2022-01-26T15:54:25.831996Z",
     "shell.execute_reply": "2022-01-26T15:54:25.831340Z",
     "shell.execute_reply.started": "2022-01-26T15:54:25.298607Z"
    },
    "id": "FrKScFaBxEV4"
   },
   "outputs": [
    {
     "data": {
      "image/png": "[encoded data removed]",
      "text/plain": [
       "<Figure size 432x288 with 1 Axes>"
      ]
     },
     "metadata": {
      "needs_background": "light"
     },
     "output_type": "display_data"
    },
    {
     "data": {
      "image/png": "[encoded data removed]",
      "text/plain": [
       "<Figure size 432x288 with 1 Axes>"
      ]
     },
     "metadata": {
      "needs_background": "light"
     },
     "output_type": "display_data"
    },
    {
     "data": {
      "image/png": "[encoded data removed]",
      "text/plain": [
       "<Figure size 432x288 with 1 Axes>"
      ]
     },
     "metadata": {
      "needs_background": "light"
     },
     "output_type": "display_data"
    },
    {
     "data": {
      "image/png": "[encoded data removed]",
      "text/plain": [
       "<Figure size 432x288 with 1 Axes>"
      ]
     },
     "metadata": {
      "needs_background": "light"
     },
     "output_type": "display_data"
    },
    {
     "data": {
      "image/png": "[encoded data removed]",
      "text/plain": [
       "<Figure size 432x288 with 1 Axes>"
      ]
     },
     "metadata": {
      "needs_background": "light"
     },
     "output_type": "display_data"
    }
   ],
   "source": [
    "fig = plt.figure()  # 新建一张图\n",
    "plt.plot(history['loss'], label=\"loss\")\n",
    "plt.title('loss')\n",
    "# plt.ylabel(attr)\n",
    "plt.xlabel('epoch')\n",
    "plt.legend()\n",
    "plt.show()\n",
    "\n",
    "fig = plt.figure()\n",
    "plt.plot(history['acc'], label=\"acc\")\n",
    "plt.title('acc')\n",
    "# plt.ylabel(attr)\n",
    "plt.xlabel('epoch')\n",
    "plt.legend()\n",
    "plt.show()\n",
    "\n",
    "fig = plt.figure()\n",
    "# plt.plot(history[\"loss\"], label='training loss')\n",
    "plt.plot(history['val_loss'], label=\"val_loss\")\n",
    "plt.title('val_loss')\n",
    "# plt.ylabel(attr)\n",
    "plt.xlabel('epoch')\n",
    "plt.legend()\n",
    "plt.show()\n",
    "\n",
    "fig = plt.figure()\n",
    "plt.plot(history['val_acc'], label=\"val_acc\")\n",
    "plt.title('val_acc')\n",
    "# plt.ylabel(attr)\n",
    "plt.xlabel('epoch')\n",
    "plt.legend()\n",
    "plt.show()\n",
    "\n",
    "fig = plt.figure()\n",
    "plt.plot(history['loss_iter'], label=\"loss_iter\")\n",
    "plt.title('loss_iter')\n",
    "# plt.ylabel(attr)\n",
    "plt.xlabel('batch')\n",
    "plt.legend()\n",
    "plt.show()"
   ]
  },
  {
   "cell_type": "code",
   "execution_count": null,
   "metadata": {},
   "outputs": [],
   "source": [
    "# name\n",
    "# 人机交互\n",
    "# 数据增强\n",
    "# 数据集介绍\n",
    "# model 超参\n",
    "# motivation 语言描述\n",
    "# problem definition 抽象/数学描述\n",
    "# reference\n",
    "# validation"
   ]
  }
 ],
 "metadata": {
  "accelerator": "GPU",
  "colab": {
   "authorship_tag": "ABX9TyN2eM1MUoBvesbN3htQrDVi",
   "collapsed_sections": [],
   "mount_file_id": "1A-kc9nn8JQvOF-b6pt6mwVusqGLgQq0R",
   "name": "train_torch.ipynb",
   "provenance": []
  },
  "kernelspec": {
   "display_name": "Python 3",
   "language": "python",
   "name": "naas"
  },
  "language_info": {
   "codemirror_mode": {
    "name": "ipython",
    "version": 3
   },
   "file_extension": ".py",
   "mimetype": "text/x-python",
   "name": "python",
   "nbconvert_exporter": "python",
   "pygments_lexer": "ipython3",
   "version": "3.7.4"
  }
 },
 "nbformat": 4,
 "nbformat_minor": 4
}
