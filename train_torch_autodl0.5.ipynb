{
 "cells": [
  {
   "cell_type": "code",
   "execution_count": null,
   "metadata": {
    "execution": {
     "iopub.execute_input": "2022-01-26T16:34:39.217995Z",
     "iopub.status.busy": "2022-01-26T16:34:39.217795Z",
     "iopub.status.idle": "2022-01-26T16:34:40.347495Z"
    },
    "executionInfo": {
     "elapsed": 6256,
     "status": "ok",
     "timestamp": 1643165628821,
     "user": {
      "displayName": "Bill chen",
      "photoUrl": "https://lh3.googleusercontent.com/a/default-user=s64",
      "userId": "03010122854624571547"
     },
     "user_tz": -480
    },
    "id": "0wpyJ6Pm5bTI"
   },
   "outputs": [],
   "source": [
    "import torch\n",
    "from torch.utils.data import Dataset, DataLoader\n",
    "from torch import nn\n",
    "import torch.nn.functional as F\n",
    "from torchvision import transforms\n",
    "\n",
    "from PIL import Image\n",
    "import matplotlib.pyplot as plt"
   ]
  },
  {
   "cell_type": "code",
   "execution_count": null,
   "metadata": {
    "execution": {
     "iopub.execute_input": "2022-01-26T16:34:40.348662Z",
     "iopub.status.busy": "2022-01-26T16:34:40.348441Z",
     "iopub.status.idle": "2022-01-26T16:34:40.352050Z"
    },
    "executionInfo": {
     "elapsed": 61,
     "status": "ok",
     "timestamp": 1643165628823,
     "user": {
      "displayName": "Bill chen",
      "photoUrl": "https://lh3.googleusercontent.com/a/default-user=s64",
      "userId": "03010122854624571547"
     },
     "user_tz": -480
    },
    "id": "zcDkHoWYRld-"
   },
   "outputs": [],
   "source": [
    "class Params:\n",
    "  class_num = 10\n",
    "  batch_size = 16\n",
    "  learning_rate = 0.001\n",
    "  dropout = 0.5\n",
    "  momentum = 0.9\n",
    "  epochs = 10\n"
   ]
  },
  {
   "cell_type": "code",
   "execution_count": null,
   "metadata": {
    "execution": {
     "iopub.execute_input": "2022-01-26T16:34:40.353079Z",
     "iopub.status.busy": "2022-01-26T16:34:40.352830Z",
     "iopub.status.idle": "2022-01-26T16:34:40.362465Z"
    },
    "executionInfo": {
     "elapsed": 64,
     "status": "ok",
     "timestamp": 1643165628829,
     "user": {
      "displayName": "Bill chen",
      "photoUrl": "https://lh3.googleusercontent.com/a/default-user=s64",
      "userId": "03010122854624571547"
     },
     "user_tz": -480
    },
    "id": "K9hPcHQZdV_z"
   },
   "outputs": [],
   "source": [
    "base_path = \"leapGestRecog/\"\n",
    "people = [\"00\", \"01\", \"02\", \"03\", \"04\", \"05\", \"06\", \"07\", \"08\", \"09\"]\n",
    "gestures = [\"01\", \"02\", \"03\", \"04\", \"05\", \"06\", \"07\", \"08\", \"09\", \"10\"]\n",
    "gestures_map = {\n",
    "    1: \"palm\", \n",
    "    2: \"l\", \n",
    "    3: \"fist\", \n",
    "    4: \"fist_moved\",\n",
    "    5: \"thumb\", \n",
    "    6: \"index\", \n",
    "    7: \"ok\", \n",
    "    8: \"palm_moved\", \n",
    "    9: \"c\",\n",
    "    10: \"down\"\n",
    "}\n",
    "\n",
    "class GestureDataset(Dataset):\n",
    "  def __init__(self, transform = None, target_transform = None):\n",
    "    img_labels = []\n",
    "    for person in range(10):\n",
    "      for label in range(1, 11):\n",
    "        path = \"%s/%s_%s/\" % (str(person).zfill(2), str(label).zfill(2), gestures_map[label])\n",
    "        for id in range(1, 201):\n",
    "          filename = \"frame_%s_%s_%s.png\" % (str(person).zfill(2), str(label).zfill(2), str(id).zfill(4))\n",
    "          img_labels.append((base_path + path + filename, label))\n",
    "          \n",
    "    self.img_labels = img_labels \n",
    "    self.transform = transform\n",
    "    self.target_transform = target_transform\n",
    "  def __getitem__(self, index):\n",
    "    path, label = self.img_labels[index]\n",
    "    img = Image.open(path).convert('L') # convert to black and white\n",
    "    if self.transform is not None:\n",
    "      img = self.transform(img)\n",
    "    return img, label - 1\n",
    "  def __len__(self):\n",
    "    return len(self.img_labels)"
   ]
  },
  {
   "cell_type": "code",
   "execution_count": null,
   "metadata": {
    "execution": {
     "iopub.execute_input": "2022-01-26T16:34:40.363335Z",
     "iopub.status.busy": "2022-01-26T16:34:40.363153Z",
     "iopub.status.idle": "2022-01-26T16:34:40.447692Z"
    },
    "executionInfo": {
     "elapsed": 67,
     "status": "ok",
     "timestamp": 1643165628834,
     "user": {
      "displayName": "Bill chen",
      "photoUrl": "https://lh3.googleusercontent.com/a/default-user=s64",
      "userId": "03010122854624571547"
     },
     "user_tz": -480
    },
    "id": "EQliUFhZ15iK"
   },
   "outputs": [],
   "source": [
    "gesture_dataset = GestureDataset(transform=transforms.ToTensor())\n",
    "\n",
    "train_size = int(20000*0.8)\n",
    "test_size = int(20000*0.2)\n",
    "\n",
    "train_dataset, test_dataset = torch.utils.data.random_split(gesture_dataset, [train_size, test_size])"
   ]
  },
  {
   "cell_type": "code",
   "execution_count": null,
   "metadata": {
    "colab": {
     "base_uri": "https://localhost:8080/"
    },
    "execution": {
     "iopub.execute_input": "2022-01-26T16:34:40.448717Z",
     "iopub.status.busy": "2022-01-26T16:34:40.448520Z",
     "iopub.status.idle": "2022-01-26T16:34:45.988926Z"
    },
    "executionInfo": {
     "elapsed": 679,
     "status": "ok",
     "timestamp": 1643165629448,
     "user": {
      "displayName": "Bill chen",
      "photoUrl": "https://lh3.googleusercontent.com/a/default-user=s64",
      "userId": "03010122854624571547"
     },
     "user_tz": -480
    },
    "id": "dJl-ZNVW1_pU",
    "outputId": "53955385-498e-40b7-9521-822a9d231240"
   },
   "outputs": [
    {
     "name": "stdout",
     "output_type": "stream",
     "text": [
      "Using cuda device\n"
     ]
    }
   ],
   "source": [
    "device = 'cuda' if torch.cuda.is_available() else 'cpu'\n",
    "print(f'Using {device} device')\n",
    "\n",
    "class Model(nn.Module):\n",
    "  def __init__(self, dropout):\n",
    "    super(Model, self).__init__()\n",
    "    self.conv1 = nn.Conv2d(1,6, kernel_size=5, stride=1, padding=0)\n",
    "    self.max_pool1 = nn.MaxPool2d(kernel_size=2, stride=2, padding=0)\n",
    "    self.conv2 = nn.Conv2d(6, 16, kernel_size=5, padding=0)\n",
    "    self.conv2_drop = nn.Dropout2d(p=dropout)\n",
    "    self.max_pool2 = nn.MaxPool2d(kernel_size=2, stride=2, padding=0)\n",
    "\n",
    "    self.fc1 = nn.Linear(143184, 512) # number channels * width * height\n",
    "    self.fc2 = nn.Linear(512, 10)\n",
    "    self.fc1_drop = nn.Dropout(p=dropout)\n",
    "\n",
    "  def forward(self, x):\n",
    "    # print(x.size(0))\n",
    "    # print(x.shape)\n",
    "    x = torch.relu(self.max_pool1(self.conv1(x)))\n",
    "    # print(x.shape)\n",
    "    x = torch.relu(self.max_pool2(self.conv2_drop(self.conv2(x))))\n",
    "    \n",
    "    # flatten over channel, height and width\n",
    "    # print(x.shape)\n",
    "    x = x.view(x.size(0), x.size(1) * x.size(2) * x.size(3))\n",
    "    \n",
    "    x = torch.relu(self.fc1_drop(self.fc1(x)))\n",
    "    # x = torch.softmax(self.fc2(x), dim=-1)\n",
    "    x = torch.relu(self.fc2(x))\n",
    "    return x\n",
    "\n",
    "\n",
    "model = Model(dropout=Params.dropout).to(device)"
   ]
  },
  {
   "cell_type": "code",
   "execution_count": null,
   "metadata": {
    "execution": {
     "iopub.execute_input": "2022-01-26T16:34:45.990360Z",
     "iopub.status.busy": "2022-01-26T16:34:45.989995Z",
     "iopub.status.idle": "2022-01-26T16:34:46.004795Z"
    },
    "executionInfo": {
     "elapsed": 36,
     "status": "ok",
     "timestamp": 1643165629450,
     "user": {
      "displayName": "Bill chen",
      "photoUrl": "https://lh3.googleusercontent.com/a/default-user=s64",
      "userId": "03010122854624571547"
     },
     "user_tz": -480
    },
    "id": "t1tnoC5B2CFN"
   },
   "outputs": [],
   "source": [
    "\n",
    "history = {\n",
    "  \"loss\": [],\n",
    "  \"acc\": [],\n",
    "  \"loss_iter\": [],\n",
    "  \"val_loss\": [],\n",
    "  \"val_acc\": []\n",
    "}\n",
    "\n",
    "def train(dataloader, model, loss_fn, optimizer):\n",
    "  size = len(dataloader.dataset)\n",
    "  num_batches = len(dataloader)\n",
    "  model.train()\n",
    "  epoch_loss, epoch_acc = 0, 0\n",
    "  for batch, (X, y) in enumerate(dataloader):\n",
    "    # y = F.one_hot(y, num_classes=10).float()\n",
    "    X, y = X.to(device), y.to(device)\n",
    "\n",
    "    # Compute prediction error\n",
    "    pred = model(X)\n",
    "    # print(pred.argmax(1))\n",
    "    loss = loss_fn(pred, y)\n",
    "  \n",
    "    history[\"loss_iter\"].append(loss.item())\n",
    "    epoch_loss += loss.item()\n",
    "    epoch_acc += (pred.argmax(1) == y).type(torch.float).sum().item()\n",
    "\n",
    "    # Backpropagation\n",
    "    optimizer.zero_grad()\n",
    "    loss.backward()\n",
    "    optimizer.step()\n",
    "\n",
    "    if batch % 100 == 0:\n",
    "      loss, current = loss.item(), batch * len(X)\n",
    "      print(f\"loss: {loss:>7f}  [{current:>5d}/{size:>5d}]\")\n",
    "  \n",
    "  epoch_loss /= num_batches\n",
    "  epoch_acc /= size\n",
    "  print(epoch_loss)\n",
    "  print(epoch_acc)\n",
    "  history[\"loss\"].append(epoch_loss)\n",
    "  history[\"acc\"].append(epoch_acc)\n",
    "\n",
    "def validate(dataloader, model, loss_fn):\n",
    "  size = len(dataloader.dataset)\n",
    "  num_batches = len(dataloader)\n",
    "  model.eval()\n",
    "  val_loss, correct = 0, 0\n",
    "  with torch.no_grad():\n",
    "    for X, y in dataloader:\n",
    "      X, y = X.to(device), y.to(device)\n",
    "      pred = model(X)\n",
    "      val_loss += loss_fn(pred, y).item()\n",
    "      correct += (pred.argmax(1) == y).type(torch.float).sum().item()\n",
    "  val_loss /= num_batches\n",
    "  correct /= size\n",
    "  history[\"val_loss\"].append(val_loss)\n",
    "  history[\"val_acc\"].append(correct)\n",
    "  print(f\"Validation: \\n Accuracy: {(100*correct):>0.2f}%, Avg loss: {val_loss:>8f} \\n\")\n",
    "\n",
    "def test(dataloader, model, loss_fn):\n",
    "  size = len(dataloader.dataset)\n",
    "  num_batches = len(dataloader)\n",
    "  model.eval()\n",
    "  test_loss, correct = 0, 0\n",
    "  with torch.no_grad():\n",
    "    for X, y in dataloader:\n",
    "      X, y = X.to(device), y.to(device)\n",
    "      pred = model(X)\n",
    "      test_loss += loss_fn(pred, y).item()\n",
    "      correct += (pred.argmax(1) == y).type(torch.float).sum().item()\n",
    "  test_loss /= num_batches\n",
    "  correct /= size\n",
    "  print(f\"Test Error: \\n Accuracy: {(100*correct):>0.2f}%, Avg loss: {test_loss:>8f} \\n\")"
   ]
  },
  {
   "cell_type": "code",
   "execution_count": null,
   "metadata": {
    "colab": {
     "base_uri": "https://localhost:8080/"
    },
    "execution": {
     "iopub.execute_input": "2022-01-26T16:34:46.005963Z",
     "iopub.status.busy": "2022-01-26T16:34:46.005749Z"
    },
    "id": "Uqc3z65l2EaT",
    "outputId": "98ed649b-fd9d-4377-bc60-089baa69390d"
   },
   "outputs": [
    {
     "name": "stdout",
     "output_type": "stream",
     "text": [
      "Epoch 1\n",
      "-------------------------------\n",
      "loss: 2.298510  [    0/16000]\n",
      "loss: 2.287789  [ 1600/16000]\n",
      "loss: 1.976992  [ 3200/16000]\n",
      "loss: 1.496215  [ 4800/16000]\n",
      "loss: 0.742514  [ 6400/16000]\n",
      "loss: 0.948692  [ 8000/16000]\n",
      "loss: 0.926794  [ 9600/16000]\n",
      "loss: 0.988683  [11200/16000]\n",
      "loss: 0.869980  [12800/16000]\n",
      "loss: 0.675298  [14400/16000]\n",
      "1.3149427135139704\n",
      "0.5486875\n",
      "Validation: \n",
      " Accuracy: 93.05%, Avg loss: 0.278870 \n",
      "\n",
      "Epoch 2\n",
      "-------------------------------\n",
      "loss: 0.571403  [    0/16000]\n",
      "loss: 0.387918  [ 1600/16000]\n",
      "loss: 0.090465  [ 3200/16000]\n",
      "loss: 0.542218  [ 4800/16000]\n",
      "loss: 0.433397  [ 6400/16000]\n",
      "loss: 0.091867  [ 8000/16000]\n",
      "loss: 0.292398  [ 9600/16000]\n",
      "loss: 1.048352  [11200/16000]\n",
      "loss: 0.134505  [12800/16000]\n",
      "loss: 0.066031  [14400/16000]\n",
      "0.4311221676021814\n",
      "0.8603125\n",
      "Validation: \n",
      " Accuracy: 98.45%, Avg loss: 0.057689 \n",
      "\n",
      "Epoch 3\n",
      "-------------------------------\n",
      "loss: 0.210492  [    0/16000]\n",
      "loss: 0.166349  [ 1600/16000]\n",
      "loss: 0.126305  [ 3200/16000]\n",
      "loss: 0.255782  [ 4800/16000]\n",
      "loss: 0.312207  [ 6400/16000]\n",
      "loss: 0.098068  [ 8000/16000]\n",
      "loss: 0.142574  [ 9600/16000]\n",
      "loss: 0.098359  [11200/16000]\n",
      "loss: 0.106031  [12800/16000]\n",
      "loss: 0.263326  [14400/16000]\n",
      "0.20862371952831746\n",
      "0.9369375\n",
      "Validation: \n",
      " Accuracy: 99.10%, Avg loss: 0.028575 \n",
      "\n",
      "Epoch 4\n",
      "-------------------------------\n",
      "loss: 0.001307  [    0/16000]\n",
      "loss: 0.191369  [ 1600/16000]\n",
      "loss: 0.062975  [ 3200/16000]\n",
      "loss: 0.086195  [ 4800/16000]\n",
      "loss: 0.038553  [ 6400/16000]\n",
      "loss: 0.016491  [ 8000/16000]\n",
      "loss: 0.077844  [ 9600/16000]\n",
      "loss: 0.047644  [11200/16000]\n",
      "loss: 0.107056  [12800/16000]\n",
      "loss: 0.047758  [14400/16000]\n",
      "0.1316088780015707\n",
      "0.96025\n",
      "Validation: \n",
      " Accuracy: 99.65%, Avg loss: 0.014131 \n",
      "\n",
      "Epoch 5\n",
      "-------------------------------\n",
      "loss: 0.005687  [    0/16000]\n",
      "loss: 0.047781  [ 1600/16000]\n",
      "loss: 0.152240  [ 3200/16000]\n",
      "loss: 0.019665  [ 4800/16000]\n",
      "loss: 0.017957  [ 6400/16000]\n",
      "loss: 0.018437  [ 8000/16000]\n",
      "loss: 0.004601  [ 9600/16000]\n",
      "loss: 0.036395  [11200/16000]\n",
      "loss: 0.294431  [12800/16000]\n",
      "loss: 0.174128  [14400/16000]\n",
      "0.09517622198909521\n",
      "0.971\n",
      "Validation: \n",
      " Accuracy: 99.95%, Avg loss: 0.003694 \n",
      "\n",
      "Epoch 6\n",
      "-------------------------------\n",
      "loss: 0.001455  [    0/16000]\n",
      "loss: 0.314823  [ 1600/16000]\n",
      "loss: 0.006881  [ 3200/16000]\n",
      "loss: 0.004660  [ 4800/16000]\n",
      "loss: 0.012052  [ 6400/16000]\n",
      "loss: 0.259898  [ 8000/16000]\n",
      "loss: 0.003226  [ 9600/16000]\n",
      "loss: 0.005310  [11200/16000]\n",
      "loss: 0.018236  [12800/16000]\n",
      "loss: 0.002614  [14400/16000]\n",
      "0.06833408834785223\n",
      "0.9783125\n",
      "Validation: \n",
      " Accuracy: 100.00%, Avg loss: 0.002680 \n",
      "\n",
      "Epoch 7\n",
      "-------------------------------\n",
      "loss: 0.059295  [    0/16000]\n",
      "loss: 0.004555  [ 1600/16000]\n",
      "loss: 0.050479  [ 3200/16000]\n",
      "loss: 0.002322  [ 4800/16000]\n",
      "loss: 0.003183  [ 6400/16000]\n",
      "loss: 0.012239  [ 8000/16000]\n",
      "loss: 0.021720  [ 9600/16000]\n",
      "loss: 0.002919  [11200/16000]\n",
      "loss: 0.404867  [12800/16000]\n",
      "loss: 0.250520  [14400/16000]\n",
      "0.04977237878739834\n",
      "0.9845\n",
      "Validation: \n",
      " Accuracy: 99.95%, Avg loss: 0.002761 \n",
      "\n",
      "Epoch 8\n",
      "-------------------------------\n",
      "loss: 0.007467  [    0/16000]\n",
      "loss: 0.010174  [ 1600/16000]\n",
      "loss: 0.284669  [ 3200/16000]\n",
      "loss: 0.115136  [ 4800/16000]\n",
      "loss: 0.001633  [ 6400/16000]\n",
      "loss: 0.014058  [ 8000/16000]\n",
      "loss: 0.042637  [ 9600/16000]\n",
      "loss: 0.047933  [11200/16000]\n",
      "loss: 0.001186  [12800/16000]\n",
      "loss: 0.001350  [14400/16000]\n",
      "0.04643847596645355\n",
      "0.9853125\n",
      "Validation: \n",
      " Accuracy: 99.95%, Avg loss: 0.002610 \n",
      "\n",
      "Epoch 9\n",
      "-------------------------------\n",
      "loss: 0.004158  [    0/16000]\n",
      "loss: 0.013636  [ 1600/16000]\n",
      "loss: 0.000225  [ 3200/16000]\n",
      "loss: 0.007640  [ 4800/16000]\n"
     ]
    }
   ],
   "source": [
    "loss_fn = nn.CrossEntropyLoss()\n",
    "optimizer = torch.optim.SGD(model.parameters(), lr=Params.learning_rate, momentum=Params.momentum)\n",
    "\n",
    "\n",
    "for t in range(Params.epochs):\n",
    "  print(f\"Epoch {t+1}\\n-------------------------------\")\n",
    "  train_size = int(20000*0.7)\n",
    "  val_size = int(20000*0.1)\n",
    "  \n",
    "  _, val_dataset = torch.utils.data.random_split(train_dataset, [train_size, val_size])\n",
    "\n",
    "  train_dataloader = DataLoader(train_dataset, batch_size=Params.batch_size, shuffle=True, num_workers=2, pin_memory=True)\n",
    "  val_dataloader = DataLoader(val_dataset, batch_size=Params.batch_size, shuffle=True, num_workers=2, pin_memory=True)\n",
    "  train(train_dataloader, model, loss_fn, optimizer)\n",
    "  validate(val_dataloader, model, loss_fn)\n",
    "print(\"Done!\")\n"
   ]
  },
  {
   "cell_type": "code",
   "execution_count": null,
   "metadata": {
    "id": "pNtVSNfV7B2v"
   },
   "outputs": [],
   "source": [
    "test_dataloader = DataLoader(test_dataset, batch_size=Params.batch_size, shuffle=True, num_workers=2, pin_memory=True)\n",
    "test(test_dataloader, model, loss_fn)"
   ]
  },
  {
   "cell_type": "code",
   "execution_count": null,
   "metadata": {
    "id": "CgxXEsXHiXnQ"
   },
   "outputs": [],
   "source": [
    "# 保存\n",
    "# torch.save(model, 'model.pkl')\n",
    "# 加载\n",
    "# model = torch.load('\\model.pkl')"
   ]
  },
  {
   "cell_type": "code",
   "execution_count": null,
   "metadata": {
    "id": "mOZhOxq-5ooj"
   },
   "outputs": [],
   "source": [
    "# Display image and label.\n",
    "train_features, train_labels = next(iter(train_dataloader))\n",
    "print(f\"Feature batch shape: {train_features.size()}\")\n",
    "print(f\"Labels batch shape: {train_labels.size()}\")\n",
    "img = train_features[0].squeeze()\n",
    "label = train_labels[0]\n",
    "plt.imshow(img)\n",
    "plt.show()\n",
    "print(f\"Label: {label}\")"
   ]
  },
  {
   "cell_type": "code",
   "execution_count": null,
   "metadata": {
    "id": "FrKScFaBxEV4"
   },
   "outputs": [],
   "source": [
    "fig = plt.figure()  # 新建一张图\n",
    "plt.plot(history['loss'], label=\"loss\")\n",
    "plt.title('loss')\n",
    "# plt.ylabel(attr)\n",
    "plt.xlabel('epoch')\n",
    "plt.legend()\n",
    "plt.show()\n",
    "\n",
    "fig = plt.figure()\n",
    "plt.plot(history['acc'], label=\"acc\")\n",
    "plt.title('acc')\n",
    "# plt.ylabel(attr)\n",
    "plt.xlabel('epoch')\n",
    "plt.legend()\n",
    "plt.show()\n",
    "\n",
    "fig = plt.figure()\n",
    "# plt.plot(history[\"loss\"], label='training loss')\n",
    "plt.plot(history['val_loss'], label=\"val_loss\")\n",
    "plt.title('val_loss')\n",
    "# plt.ylabel(attr)\n",
    "plt.xlabel('epoch')\n",
    "plt.legend()\n",
    "plt.show()\n",
    "\n",
    "fig = plt.figure()\n",
    "plt.plot(history['val_acc'], label=\"val_acc\")\n",
    "plt.title('val_acc')\n",
    "# plt.ylabel(attr)\n",
    "plt.xlabel('epoch')\n",
    "plt.legend()\n",
    "plt.show()\n",
    "\n",
    "fig = plt.figure()\n",
    "plt.plot(history['loss_iter'], label=\"loss_iter\")\n",
    "plt.title('loss_iter')\n",
    "# plt.ylabel(attr)\n",
    "plt.xlabel('batch')\n",
    "plt.legend()\n",
    "plt.show()"
   ]
  }
 ],
 "metadata": {
  "accelerator": "GPU",
  "colab": {
   "authorship_tag": "ABX9TyN2eM1MUoBvesbN3htQrDVi",
   "collapsed_sections": [],
   "mount_file_id": "1A-kc9nn8JQvOF-b6pt6mwVusqGLgQq0R",
   "name": "train_torch.ipynb",
   "provenance": []
  },
  "kernelspec": {
   "display_name": "Python 3",
   "language": "python",
   "name": "naas"
  },
  "language_info": {
   "codemirror_mode": {
    "name": "ipython",
    "version": 3
   },
   "file_extension": ".py",
   "mimetype": "text/x-python",
   "name": "python",
   "nbconvert_exporter": "python",
   "pygments_lexer": "ipython3",
   "version": "3.7.4"
  }
 },
 "nbformat": 4,
 "nbformat_minor": 4
}
